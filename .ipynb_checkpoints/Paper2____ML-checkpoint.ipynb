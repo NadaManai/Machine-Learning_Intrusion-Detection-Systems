{
 "cells": [
  {
   "cell_type": "code",
   "execution_count": 6,
   "id": "9ff0f8cc",
   "metadata": {},
   "outputs": [],
   "source": [
    "import numpy as np\n",
    "import pandas as pd\n",
    "import matplotlib.pyplot as plt\n",
    "from scipy.io import arff\n",
    "from sklearn.preprocessing import LabelEncoder,OneHotEncoder\n",
    "from sklearn import preprocessing\n",
    "from sklearn.feature_selection import RFE\n",
    "from sklearn.tree import DecisionTreeClassifier\n",
    "from sklearn.model_selection import train_test_split\n",
    "import warnings\n",
    "warnings.filterwarnings(\"ignore\") \n",
    "from sklearn.preprocessing import LabelEncoder,OneHotEncoder\n",
    "from sklearn import preprocessing\n",
    "from sklearn.decomposition import PCA\n",
    "from sklearn.preprocessing import normalize\n",
    "from tqdm import tqdm\n",
    "from scipy.stats import norm"
   ]
  },
  {
   "cell_type": "code",
   "execution_count": 7,
   "id": "d6d48d3d",
   "metadata": {},
   "outputs": [],
   "source": [
    "col_names = [\"duration\", \"protocol_type\", \"service\", \"flag\", \"src_bytes\", \"dst_bytes\", \"land\",\n",
    "            \"wrong_fragment\", \"urgent\", \"hot\", \"num_failed_logins\", \"logged_in\", \"num_compromised\",\n",
    "            \"root_shell\", \"su_attempted\", \"num_root\", \"num_file_creations\", \"num_shells\", \"num_access_files\",\n",
    "            \"num_outbound_cmds\", \"is_host_login\", \"is_guest_login\", \"count\", \"srv_count\", \"serror_rate\", \"srv_serror_rate\", \"rerror_rate\", \"srv_rerror_rate\", \"same_srv_rate\", \"diff_srv_rate\",\n",
    "            \"srv_diff_host_rate\", \"dst_host_count\", \"dst_host_srv_count\", \"dst_host_same_srv_rate\", \"dst_host_diff_srv_rate\", \"dst_host_same_src_port_rate\", \"dst_host_srv_diff_host_rate\", \"dst_host_serror_rate\", \"dst_host_srv_serror_rate\",\n",
    "            \"dst_host_rerror_rate\", \"dst_host_srv_rerror_rate\", \"attack\", \"last_flag\"]"
   ]
  },
  {
   "cell_type": "code",
   "execution_count": 8,
   "id": "ede2748a",
   "metadata": {},
   "outputs": [
    {
     "data": {
      "text/html": [
       "<div>\n",
       "<style scoped>\n",
       "    .dataframe tbody tr th:only-of-type {\n",
       "        vertical-align: middle;\n",
       "    }\n",
       "\n",
       "    .dataframe tbody tr th {\n",
       "        vertical-align: top;\n",
       "    }\n",
       "\n",
       "    .dataframe thead th {\n",
       "        text-align: right;\n",
       "    }\n",
       "</style>\n",
       "<table border=\"1\" class=\"dataframe\">\n",
       "  <thead>\n",
       "    <tr style=\"text-align: right;\">\n",
       "      <th></th>\n",
       "      <th>duration</th>\n",
       "      <th>protocol_type</th>\n",
       "      <th>service</th>\n",
       "      <th>flag</th>\n",
       "      <th>src_bytes</th>\n",
       "      <th>dst_bytes</th>\n",
       "      <th>land</th>\n",
       "      <th>wrong_fragment</th>\n",
       "      <th>urgent</th>\n",
       "      <th>hot</th>\n",
       "      <th>...</th>\n",
       "      <th>dst_host_srv_count</th>\n",
       "      <th>dst_host_same_srv_rate</th>\n",
       "      <th>dst_host_diff_srv_rate</th>\n",
       "      <th>dst_host_same_src_port_rate</th>\n",
       "      <th>dst_host_srv_diff_host_rate</th>\n",
       "      <th>dst_host_serror_rate</th>\n",
       "      <th>dst_host_srv_serror_rate</th>\n",
       "      <th>dst_host_rerror_rate</th>\n",
       "      <th>dst_host_srv_rerror_rate</th>\n",
       "      <th>class</th>\n",
       "    </tr>\n",
       "  </thead>\n",
       "  <tbody>\n",
       "    <tr>\n",
       "      <th>0</th>\n",
       "      <td>0.0</td>\n",
       "      <td>b'tcp'</td>\n",
       "      <td>b'ftp_data'</td>\n",
       "      <td>b'SF'</td>\n",
       "      <td>491.0</td>\n",
       "      <td>0.0</td>\n",
       "      <td>b'0'</td>\n",
       "      <td>0.0</td>\n",
       "      <td>0.0</td>\n",
       "      <td>0.0</td>\n",
       "      <td>...</td>\n",
       "      <td>25.0</td>\n",
       "      <td>0.17</td>\n",
       "      <td>0.03</td>\n",
       "      <td>0.17</td>\n",
       "      <td>0.00</td>\n",
       "      <td>0.00</td>\n",
       "      <td>0.00</td>\n",
       "      <td>0.05</td>\n",
       "      <td>0.00</td>\n",
       "      <td>b'normal'</td>\n",
       "    </tr>\n",
       "    <tr>\n",
       "      <th>1</th>\n",
       "      <td>0.0</td>\n",
       "      <td>b'udp'</td>\n",
       "      <td>b'other'</td>\n",
       "      <td>b'SF'</td>\n",
       "      <td>146.0</td>\n",
       "      <td>0.0</td>\n",
       "      <td>b'0'</td>\n",
       "      <td>0.0</td>\n",
       "      <td>0.0</td>\n",
       "      <td>0.0</td>\n",
       "      <td>...</td>\n",
       "      <td>1.0</td>\n",
       "      <td>0.00</td>\n",
       "      <td>0.60</td>\n",
       "      <td>0.88</td>\n",
       "      <td>0.00</td>\n",
       "      <td>0.00</td>\n",
       "      <td>0.00</td>\n",
       "      <td>0.00</td>\n",
       "      <td>0.00</td>\n",
       "      <td>b'normal'</td>\n",
       "    </tr>\n",
       "    <tr>\n",
       "      <th>2</th>\n",
       "      <td>0.0</td>\n",
       "      <td>b'tcp'</td>\n",
       "      <td>b'private'</td>\n",
       "      <td>b'S0'</td>\n",
       "      <td>0.0</td>\n",
       "      <td>0.0</td>\n",
       "      <td>b'0'</td>\n",
       "      <td>0.0</td>\n",
       "      <td>0.0</td>\n",
       "      <td>0.0</td>\n",
       "      <td>...</td>\n",
       "      <td>26.0</td>\n",
       "      <td>0.10</td>\n",
       "      <td>0.05</td>\n",
       "      <td>0.00</td>\n",
       "      <td>0.00</td>\n",
       "      <td>1.00</td>\n",
       "      <td>1.00</td>\n",
       "      <td>0.00</td>\n",
       "      <td>0.00</td>\n",
       "      <td>b'anomaly'</td>\n",
       "    </tr>\n",
       "    <tr>\n",
       "      <th>3</th>\n",
       "      <td>0.0</td>\n",
       "      <td>b'tcp'</td>\n",
       "      <td>b'http'</td>\n",
       "      <td>b'SF'</td>\n",
       "      <td>232.0</td>\n",
       "      <td>8153.0</td>\n",
       "      <td>b'0'</td>\n",
       "      <td>0.0</td>\n",
       "      <td>0.0</td>\n",
       "      <td>0.0</td>\n",
       "      <td>...</td>\n",
       "      <td>255.0</td>\n",
       "      <td>1.00</td>\n",
       "      <td>0.00</td>\n",
       "      <td>0.03</td>\n",
       "      <td>0.04</td>\n",
       "      <td>0.03</td>\n",
       "      <td>0.01</td>\n",
       "      <td>0.00</td>\n",
       "      <td>0.01</td>\n",
       "      <td>b'normal'</td>\n",
       "    </tr>\n",
       "    <tr>\n",
       "      <th>4</th>\n",
       "      <td>0.0</td>\n",
       "      <td>b'tcp'</td>\n",
       "      <td>b'http'</td>\n",
       "      <td>b'SF'</td>\n",
       "      <td>199.0</td>\n",
       "      <td>420.0</td>\n",
       "      <td>b'0'</td>\n",
       "      <td>0.0</td>\n",
       "      <td>0.0</td>\n",
       "      <td>0.0</td>\n",
       "      <td>...</td>\n",
       "      <td>255.0</td>\n",
       "      <td>1.00</td>\n",
       "      <td>0.00</td>\n",
       "      <td>0.00</td>\n",
       "      <td>0.00</td>\n",
       "      <td>0.00</td>\n",
       "      <td>0.00</td>\n",
       "      <td>0.00</td>\n",
       "      <td>0.00</td>\n",
       "      <td>b'normal'</td>\n",
       "    </tr>\n",
       "  </tbody>\n",
       "</table>\n",
       "<p>5 rows × 42 columns</p>\n",
       "</div>"
      ],
      "text/plain": [
       "   duration protocol_type      service   flag  src_bytes  dst_bytes  land  \\\n",
       "0       0.0        b'tcp'  b'ftp_data'  b'SF'      491.0        0.0  b'0'   \n",
       "1       0.0        b'udp'     b'other'  b'SF'      146.0        0.0  b'0'   \n",
       "2       0.0        b'tcp'   b'private'  b'S0'        0.0        0.0  b'0'   \n",
       "3       0.0        b'tcp'      b'http'  b'SF'      232.0     8153.0  b'0'   \n",
       "4       0.0        b'tcp'      b'http'  b'SF'      199.0      420.0  b'0'   \n",
       "\n",
       "   wrong_fragment  urgent  hot  ...  dst_host_srv_count  \\\n",
       "0             0.0     0.0  0.0  ...                25.0   \n",
       "1             0.0     0.0  0.0  ...                 1.0   \n",
       "2             0.0     0.0  0.0  ...                26.0   \n",
       "3             0.0     0.0  0.0  ...               255.0   \n",
       "4             0.0     0.0  0.0  ...               255.0   \n",
       "\n",
       "  dst_host_same_srv_rate  dst_host_diff_srv_rate  dst_host_same_src_port_rate  \\\n",
       "0                   0.17                    0.03                         0.17   \n",
       "1                   0.00                    0.60                         0.88   \n",
       "2                   0.10                    0.05                         0.00   \n",
       "3                   1.00                    0.00                         0.03   \n",
       "4                   1.00                    0.00                         0.00   \n",
       "\n",
       "   dst_host_srv_diff_host_rate  dst_host_serror_rate  \\\n",
       "0                         0.00                  0.00   \n",
       "1                         0.00                  0.00   \n",
       "2                         0.00                  1.00   \n",
       "3                         0.04                  0.03   \n",
       "4                         0.00                  0.00   \n",
       "\n",
       "   dst_host_srv_serror_rate  dst_host_rerror_rate  dst_host_srv_rerror_rate  \\\n",
       "0                      0.00                  0.05                      0.00   \n",
       "1                      0.00                  0.00                      0.00   \n",
       "2                      1.00                  0.00                      0.00   \n",
       "3                      0.01                  0.00                      0.01   \n",
       "4                      0.00                  0.00                      0.00   \n",
       "\n",
       "        class  \n",
       "0   b'normal'  \n",
       "1   b'normal'  \n",
       "2  b'anomaly'  \n",
       "3   b'normal'  \n",
       "4   b'normal'  \n",
       "\n",
       "[5 rows x 42 columns]"
      ]
     },
     "execution_count": 8,
     "metadata": {},
     "output_type": "execute_result"
    }
   ],
   "source": [
    "#Import the train dataset\n",
    "file_path = 'KDDTrain+.arff'  # Change the file extension to .arff\n",
    "data, meta = arff.loadarff(file_path)\n",
    "\n",
    "# Convert the ARFF data to a Pandas DataFrame\n",
    "dataset_train = pd.DataFrame(data)\n",
    "\n",
    "# Display the first few rows of the DataFrame\n",
    "dataset_train.head()"
   ]
  },
  {
   "cell_type": "code",
   "execution_count": 9,
   "id": "f7dfdb02",
   "metadata": {},
   "outputs": [
    {
     "data": {
      "text/html": [
       "<div>\n",
       "<style scoped>\n",
       "    .dataframe tbody tr th:only-of-type {\n",
       "        vertical-align: middle;\n",
       "    }\n",
       "\n",
       "    .dataframe tbody tr th {\n",
       "        vertical-align: top;\n",
       "    }\n",
       "\n",
       "    .dataframe thead th {\n",
       "        text-align: right;\n",
       "    }\n",
       "</style>\n",
       "<table border=\"1\" class=\"dataframe\">\n",
       "  <thead>\n",
       "    <tr style=\"text-align: right;\">\n",
       "      <th></th>\n",
       "      <th>duration</th>\n",
       "      <th>protocol_type</th>\n",
       "      <th>service</th>\n",
       "      <th>flag</th>\n",
       "      <th>src_bytes</th>\n",
       "      <th>dst_bytes</th>\n",
       "      <th>land</th>\n",
       "      <th>wrong_fragment</th>\n",
       "      <th>urgent</th>\n",
       "      <th>hot</th>\n",
       "      <th>...</th>\n",
       "      <th>dst_host_srv_count</th>\n",
       "      <th>dst_host_same_srv_rate</th>\n",
       "      <th>dst_host_diff_srv_rate</th>\n",
       "      <th>dst_host_same_src_port_rate</th>\n",
       "      <th>dst_host_srv_diff_host_rate</th>\n",
       "      <th>dst_host_serror_rate</th>\n",
       "      <th>dst_host_srv_serror_rate</th>\n",
       "      <th>dst_host_rerror_rate</th>\n",
       "      <th>dst_host_srv_rerror_rate</th>\n",
       "      <th>class</th>\n",
       "    </tr>\n",
       "  </thead>\n",
       "  <tbody>\n",
       "    <tr>\n",
       "      <th>0</th>\n",
       "      <td>0.0</td>\n",
       "      <td>b'tcp'</td>\n",
       "      <td>b'private'</td>\n",
       "      <td>b'REJ'</td>\n",
       "      <td>0.0</td>\n",
       "      <td>0.0</td>\n",
       "      <td>b'0'</td>\n",
       "      <td>0.0</td>\n",
       "      <td>0.0</td>\n",
       "      <td>0.0</td>\n",
       "      <td>...</td>\n",
       "      <td>10.0</td>\n",
       "      <td>0.04</td>\n",
       "      <td>0.06</td>\n",
       "      <td>0.00</td>\n",
       "      <td>0.00</td>\n",
       "      <td>0.0</td>\n",
       "      <td>0.0</td>\n",
       "      <td>1.00</td>\n",
       "      <td>1.00</td>\n",
       "      <td>b'anomaly'</td>\n",
       "    </tr>\n",
       "    <tr>\n",
       "      <th>1</th>\n",
       "      <td>0.0</td>\n",
       "      <td>b'tcp'</td>\n",
       "      <td>b'private'</td>\n",
       "      <td>b'REJ'</td>\n",
       "      <td>0.0</td>\n",
       "      <td>0.0</td>\n",
       "      <td>b'0'</td>\n",
       "      <td>0.0</td>\n",
       "      <td>0.0</td>\n",
       "      <td>0.0</td>\n",
       "      <td>...</td>\n",
       "      <td>1.0</td>\n",
       "      <td>0.00</td>\n",
       "      <td>0.06</td>\n",
       "      <td>0.00</td>\n",
       "      <td>0.00</td>\n",
       "      <td>0.0</td>\n",
       "      <td>0.0</td>\n",
       "      <td>1.00</td>\n",
       "      <td>1.00</td>\n",
       "      <td>b'anomaly'</td>\n",
       "    </tr>\n",
       "    <tr>\n",
       "      <th>2</th>\n",
       "      <td>2.0</td>\n",
       "      <td>b'tcp'</td>\n",
       "      <td>b'ftp_data'</td>\n",
       "      <td>b'SF'</td>\n",
       "      <td>12983.0</td>\n",
       "      <td>0.0</td>\n",
       "      <td>b'0'</td>\n",
       "      <td>0.0</td>\n",
       "      <td>0.0</td>\n",
       "      <td>0.0</td>\n",
       "      <td>...</td>\n",
       "      <td>86.0</td>\n",
       "      <td>0.61</td>\n",
       "      <td>0.04</td>\n",
       "      <td>0.61</td>\n",
       "      <td>0.02</td>\n",
       "      <td>0.0</td>\n",
       "      <td>0.0</td>\n",
       "      <td>0.00</td>\n",
       "      <td>0.00</td>\n",
       "      <td>b'normal'</td>\n",
       "    </tr>\n",
       "    <tr>\n",
       "      <th>3</th>\n",
       "      <td>0.0</td>\n",
       "      <td>b'icmp'</td>\n",
       "      <td>b'eco_i'</td>\n",
       "      <td>b'SF'</td>\n",
       "      <td>20.0</td>\n",
       "      <td>0.0</td>\n",
       "      <td>b'0'</td>\n",
       "      <td>0.0</td>\n",
       "      <td>0.0</td>\n",
       "      <td>0.0</td>\n",
       "      <td>...</td>\n",
       "      <td>57.0</td>\n",
       "      <td>1.00</td>\n",
       "      <td>0.00</td>\n",
       "      <td>1.00</td>\n",
       "      <td>0.28</td>\n",
       "      <td>0.0</td>\n",
       "      <td>0.0</td>\n",
       "      <td>0.00</td>\n",
       "      <td>0.00</td>\n",
       "      <td>b'anomaly'</td>\n",
       "    </tr>\n",
       "    <tr>\n",
       "      <th>4</th>\n",
       "      <td>1.0</td>\n",
       "      <td>b'tcp'</td>\n",
       "      <td>b'telnet'</td>\n",
       "      <td>b'RSTO'</td>\n",
       "      <td>0.0</td>\n",
       "      <td>15.0</td>\n",
       "      <td>b'0'</td>\n",
       "      <td>0.0</td>\n",
       "      <td>0.0</td>\n",
       "      <td>0.0</td>\n",
       "      <td>...</td>\n",
       "      <td>86.0</td>\n",
       "      <td>0.31</td>\n",
       "      <td>0.17</td>\n",
       "      <td>0.03</td>\n",
       "      <td>0.02</td>\n",
       "      <td>0.0</td>\n",
       "      <td>0.0</td>\n",
       "      <td>0.83</td>\n",
       "      <td>0.71</td>\n",
       "      <td>b'anomaly'</td>\n",
       "    </tr>\n",
       "  </tbody>\n",
       "</table>\n",
       "<p>5 rows × 42 columns</p>\n",
       "</div>"
      ],
      "text/plain": [
       "   duration protocol_type      service     flag  src_bytes  dst_bytes  land  \\\n",
       "0       0.0        b'tcp'   b'private'   b'REJ'        0.0        0.0  b'0'   \n",
       "1       0.0        b'tcp'   b'private'   b'REJ'        0.0        0.0  b'0'   \n",
       "2       2.0        b'tcp'  b'ftp_data'    b'SF'    12983.0        0.0  b'0'   \n",
       "3       0.0       b'icmp'     b'eco_i'    b'SF'       20.0        0.0  b'0'   \n",
       "4       1.0        b'tcp'    b'telnet'  b'RSTO'        0.0       15.0  b'0'   \n",
       "\n",
       "   wrong_fragment  urgent  hot  ...  dst_host_srv_count  \\\n",
       "0             0.0     0.0  0.0  ...                10.0   \n",
       "1             0.0     0.0  0.0  ...                 1.0   \n",
       "2             0.0     0.0  0.0  ...                86.0   \n",
       "3             0.0     0.0  0.0  ...                57.0   \n",
       "4             0.0     0.0  0.0  ...                86.0   \n",
       "\n",
       "  dst_host_same_srv_rate  dst_host_diff_srv_rate  dst_host_same_src_port_rate  \\\n",
       "0                   0.04                    0.06                         0.00   \n",
       "1                   0.00                    0.06                         0.00   \n",
       "2                   0.61                    0.04                         0.61   \n",
       "3                   1.00                    0.00                         1.00   \n",
       "4                   0.31                    0.17                         0.03   \n",
       "\n",
       "   dst_host_srv_diff_host_rate  dst_host_serror_rate  \\\n",
       "0                         0.00                   0.0   \n",
       "1                         0.00                   0.0   \n",
       "2                         0.02                   0.0   \n",
       "3                         0.28                   0.0   \n",
       "4                         0.02                   0.0   \n",
       "\n",
       "   dst_host_srv_serror_rate  dst_host_rerror_rate  dst_host_srv_rerror_rate  \\\n",
       "0                       0.0                  1.00                      1.00   \n",
       "1                       0.0                  1.00                      1.00   \n",
       "2                       0.0                  0.00                      0.00   \n",
       "3                       0.0                  0.00                      0.00   \n",
       "4                       0.0                  0.83                      0.71   \n",
       "\n",
       "        class  \n",
       "0  b'anomaly'  \n",
       "1  b'anomaly'  \n",
       "2   b'normal'  \n",
       "3  b'anomaly'  \n",
       "4  b'anomaly'  \n",
       "\n",
       "[5 rows x 42 columns]"
      ]
     },
     "execution_count": 9,
     "metadata": {},
     "output_type": "execute_result"
    }
   ],
   "source": [
    "#Import the test dataset\n",
    "file_path = 'KDDTest+.arff'  # Change the file extension to .arff\n",
    "data1, meta1 = arff.loadarff(file_path)\n",
    "\n",
    "# Convert the ARFF data to a Pandas DataFrame\n",
    "dataset_test = pd.DataFrame(data1)\n",
    "\n",
    "# Display the first few rows of the DataFrame\n",
    "dataset_test.head()"
   ]
  },
  {
   "cell_type": "code",
   "execution_count": 10,
   "id": "e4bddb9d",
   "metadata": {},
   "outputs": [
    {
     "data": {
      "text/html": [
       "<div>\n",
       "<style scoped>\n",
       "    .dataframe tbody tr th:only-of-type {\n",
       "        vertical-align: middle;\n",
       "    }\n",
       "\n",
       "    .dataframe tbody tr th {\n",
       "        vertical-align: top;\n",
       "    }\n",
       "\n",
       "    .dataframe thead th {\n",
       "        text-align: right;\n",
       "    }\n",
       "</style>\n",
       "<table border=\"1\" class=\"dataframe\">\n",
       "  <thead>\n",
       "    <tr style=\"text-align: right;\">\n",
       "      <th></th>\n",
       "      <th>duration</th>\n",
       "      <th>src_bytes</th>\n",
       "      <th>dst_bytes</th>\n",
       "      <th>wrong_fragment</th>\n",
       "      <th>urgent</th>\n",
       "      <th>hot</th>\n",
       "      <th>num_failed_logins</th>\n",
       "      <th>num_compromised</th>\n",
       "      <th>root_shell</th>\n",
       "      <th>su_attempted</th>\n",
       "      <th>...</th>\n",
       "      <th>dst_host_count</th>\n",
       "      <th>dst_host_srv_count</th>\n",
       "      <th>dst_host_same_srv_rate</th>\n",
       "      <th>dst_host_diff_srv_rate</th>\n",
       "      <th>dst_host_same_src_port_rate</th>\n",
       "      <th>dst_host_srv_diff_host_rate</th>\n",
       "      <th>dst_host_serror_rate</th>\n",
       "      <th>dst_host_srv_serror_rate</th>\n",
       "      <th>dst_host_rerror_rate</th>\n",
       "      <th>dst_host_srv_rerror_rate</th>\n",
       "    </tr>\n",
       "  </thead>\n",
       "  <tbody>\n",
       "    <tr>\n",
       "      <th>count</th>\n",
       "      <td>125973.00000</td>\n",
       "      <td>1.259730e+05</td>\n",
       "      <td>1.259730e+05</td>\n",
       "      <td>125973.000000</td>\n",
       "      <td>125973.000000</td>\n",
       "      <td>125973.000000</td>\n",
       "      <td>125973.000000</td>\n",
       "      <td>125973.000000</td>\n",
       "      <td>125973.000000</td>\n",
       "      <td>125973.000000</td>\n",
       "      <td>...</td>\n",
       "      <td>125973.000000</td>\n",
       "      <td>125973.000000</td>\n",
       "      <td>125973.000000</td>\n",
       "      <td>125973.000000</td>\n",
       "      <td>125973.000000</td>\n",
       "      <td>125973.000000</td>\n",
       "      <td>125973.000000</td>\n",
       "      <td>125973.000000</td>\n",
       "      <td>125973.000000</td>\n",
       "      <td>125973.000000</td>\n",
       "    </tr>\n",
       "    <tr>\n",
       "      <th>mean</th>\n",
       "      <td>287.14465</td>\n",
       "      <td>4.556674e+04</td>\n",
       "      <td>1.977911e+04</td>\n",
       "      <td>0.022687</td>\n",
       "      <td>0.000111</td>\n",
       "      <td>0.204409</td>\n",
       "      <td>0.001222</td>\n",
       "      <td>0.279250</td>\n",
       "      <td>0.001342</td>\n",
       "      <td>0.001103</td>\n",
       "      <td>...</td>\n",
       "      <td>182.148945</td>\n",
       "      <td>115.653005</td>\n",
       "      <td>0.521242</td>\n",
       "      <td>0.082951</td>\n",
       "      <td>0.148379</td>\n",
       "      <td>0.032542</td>\n",
       "      <td>0.284452</td>\n",
       "      <td>0.278485</td>\n",
       "      <td>0.118832</td>\n",
       "      <td>0.120240</td>\n",
       "    </tr>\n",
       "    <tr>\n",
       "      <th>std</th>\n",
       "      <td>2604.51531</td>\n",
       "      <td>5.870331e+06</td>\n",
       "      <td>4.021269e+06</td>\n",
       "      <td>0.253530</td>\n",
       "      <td>0.014366</td>\n",
       "      <td>2.149968</td>\n",
       "      <td>0.045239</td>\n",
       "      <td>23.942042</td>\n",
       "      <td>0.036603</td>\n",
       "      <td>0.045154</td>\n",
       "      <td>...</td>\n",
       "      <td>99.206213</td>\n",
       "      <td>110.702741</td>\n",
       "      <td>0.448949</td>\n",
       "      <td>0.188922</td>\n",
       "      <td>0.308997</td>\n",
       "      <td>0.112564</td>\n",
       "      <td>0.444784</td>\n",
       "      <td>0.445669</td>\n",
       "      <td>0.306557</td>\n",
       "      <td>0.319459</td>\n",
       "    </tr>\n",
       "    <tr>\n",
       "      <th>min</th>\n",
       "      <td>0.00000</td>\n",
       "      <td>0.000000e+00</td>\n",
       "      <td>0.000000e+00</td>\n",
       "      <td>0.000000</td>\n",
       "      <td>0.000000</td>\n",
       "      <td>0.000000</td>\n",
       "      <td>0.000000</td>\n",
       "      <td>0.000000</td>\n",
       "      <td>0.000000</td>\n",
       "      <td>0.000000</td>\n",
       "      <td>...</td>\n",
       "      <td>0.000000</td>\n",
       "      <td>0.000000</td>\n",
       "      <td>0.000000</td>\n",
       "      <td>0.000000</td>\n",
       "      <td>0.000000</td>\n",
       "      <td>0.000000</td>\n",
       "      <td>0.000000</td>\n",
       "      <td>0.000000</td>\n",
       "      <td>0.000000</td>\n",
       "      <td>0.000000</td>\n",
       "    </tr>\n",
       "    <tr>\n",
       "      <th>25%</th>\n",
       "      <td>0.00000</td>\n",
       "      <td>0.000000e+00</td>\n",
       "      <td>0.000000e+00</td>\n",
       "      <td>0.000000</td>\n",
       "      <td>0.000000</td>\n",
       "      <td>0.000000</td>\n",
       "      <td>0.000000</td>\n",
       "      <td>0.000000</td>\n",
       "      <td>0.000000</td>\n",
       "      <td>0.000000</td>\n",
       "      <td>...</td>\n",
       "      <td>82.000000</td>\n",
       "      <td>10.000000</td>\n",
       "      <td>0.050000</td>\n",
       "      <td>0.000000</td>\n",
       "      <td>0.000000</td>\n",
       "      <td>0.000000</td>\n",
       "      <td>0.000000</td>\n",
       "      <td>0.000000</td>\n",
       "      <td>0.000000</td>\n",
       "      <td>0.000000</td>\n",
       "    </tr>\n",
       "    <tr>\n",
       "      <th>50%</th>\n",
       "      <td>0.00000</td>\n",
       "      <td>4.400000e+01</td>\n",
       "      <td>0.000000e+00</td>\n",
       "      <td>0.000000</td>\n",
       "      <td>0.000000</td>\n",
       "      <td>0.000000</td>\n",
       "      <td>0.000000</td>\n",
       "      <td>0.000000</td>\n",
       "      <td>0.000000</td>\n",
       "      <td>0.000000</td>\n",
       "      <td>...</td>\n",
       "      <td>255.000000</td>\n",
       "      <td>63.000000</td>\n",
       "      <td>0.510000</td>\n",
       "      <td>0.020000</td>\n",
       "      <td>0.000000</td>\n",
       "      <td>0.000000</td>\n",
       "      <td>0.000000</td>\n",
       "      <td>0.000000</td>\n",
       "      <td>0.000000</td>\n",
       "      <td>0.000000</td>\n",
       "    </tr>\n",
       "    <tr>\n",
       "      <th>75%</th>\n",
       "      <td>0.00000</td>\n",
       "      <td>2.760000e+02</td>\n",
       "      <td>5.160000e+02</td>\n",
       "      <td>0.000000</td>\n",
       "      <td>0.000000</td>\n",
       "      <td>0.000000</td>\n",
       "      <td>0.000000</td>\n",
       "      <td>0.000000</td>\n",
       "      <td>0.000000</td>\n",
       "      <td>0.000000</td>\n",
       "      <td>...</td>\n",
       "      <td>255.000000</td>\n",
       "      <td>255.000000</td>\n",
       "      <td>1.000000</td>\n",
       "      <td>0.070000</td>\n",
       "      <td>0.060000</td>\n",
       "      <td>0.020000</td>\n",
       "      <td>1.000000</td>\n",
       "      <td>1.000000</td>\n",
       "      <td>0.000000</td>\n",
       "      <td>0.000000</td>\n",
       "    </tr>\n",
       "    <tr>\n",
       "      <th>max</th>\n",
       "      <td>42908.00000</td>\n",
       "      <td>1.379964e+09</td>\n",
       "      <td>1.309937e+09</td>\n",
       "      <td>3.000000</td>\n",
       "      <td>3.000000</td>\n",
       "      <td>77.000000</td>\n",
       "      <td>5.000000</td>\n",
       "      <td>7479.000000</td>\n",
       "      <td>1.000000</td>\n",
       "      <td>2.000000</td>\n",
       "      <td>...</td>\n",
       "      <td>255.000000</td>\n",
       "      <td>255.000000</td>\n",
       "      <td>1.000000</td>\n",
       "      <td>1.000000</td>\n",
       "      <td>1.000000</td>\n",
       "      <td>1.000000</td>\n",
       "      <td>1.000000</td>\n",
       "      <td>1.000000</td>\n",
       "      <td>1.000000</td>\n",
       "      <td>1.000000</td>\n",
       "    </tr>\n",
       "  </tbody>\n",
       "</table>\n",
       "<p>8 rows × 34 columns</p>\n",
       "</div>"
      ],
      "text/plain": [
       "           duration     src_bytes     dst_bytes  wrong_fragment  \\\n",
       "count  125973.00000  1.259730e+05  1.259730e+05   125973.000000   \n",
       "mean      287.14465  4.556674e+04  1.977911e+04        0.022687   \n",
       "std      2604.51531  5.870331e+06  4.021269e+06        0.253530   \n",
       "min         0.00000  0.000000e+00  0.000000e+00        0.000000   \n",
       "25%         0.00000  0.000000e+00  0.000000e+00        0.000000   \n",
       "50%         0.00000  4.400000e+01  0.000000e+00        0.000000   \n",
       "75%         0.00000  2.760000e+02  5.160000e+02        0.000000   \n",
       "max     42908.00000  1.379964e+09  1.309937e+09        3.000000   \n",
       "\n",
       "              urgent            hot  num_failed_logins  num_compromised  \\\n",
       "count  125973.000000  125973.000000      125973.000000    125973.000000   \n",
       "mean        0.000111       0.204409           0.001222         0.279250   \n",
       "std         0.014366       2.149968           0.045239        23.942042   \n",
       "min         0.000000       0.000000           0.000000         0.000000   \n",
       "25%         0.000000       0.000000           0.000000         0.000000   \n",
       "50%         0.000000       0.000000           0.000000         0.000000   \n",
       "75%         0.000000       0.000000           0.000000         0.000000   \n",
       "max         3.000000      77.000000           5.000000      7479.000000   \n",
       "\n",
       "          root_shell   su_attempted  ...  dst_host_count  dst_host_srv_count  \\\n",
       "count  125973.000000  125973.000000  ...   125973.000000       125973.000000   \n",
       "mean        0.001342       0.001103  ...      182.148945          115.653005   \n",
       "std         0.036603       0.045154  ...       99.206213          110.702741   \n",
       "min         0.000000       0.000000  ...        0.000000            0.000000   \n",
       "25%         0.000000       0.000000  ...       82.000000           10.000000   \n",
       "50%         0.000000       0.000000  ...      255.000000           63.000000   \n",
       "75%         0.000000       0.000000  ...      255.000000          255.000000   \n",
       "max         1.000000       2.000000  ...      255.000000          255.000000   \n",
       "\n",
       "       dst_host_same_srv_rate  dst_host_diff_srv_rate  \\\n",
       "count           125973.000000           125973.000000   \n",
       "mean                 0.521242                0.082951   \n",
       "std                  0.448949                0.188922   \n",
       "min                  0.000000                0.000000   \n",
       "25%                  0.050000                0.000000   \n",
       "50%                  0.510000                0.020000   \n",
       "75%                  1.000000                0.070000   \n",
       "max                  1.000000                1.000000   \n",
       "\n",
       "       dst_host_same_src_port_rate  dst_host_srv_diff_host_rate  \\\n",
       "count                125973.000000                125973.000000   \n",
       "mean                      0.148379                     0.032542   \n",
       "std                       0.308997                     0.112564   \n",
       "min                       0.000000                     0.000000   \n",
       "25%                       0.000000                     0.000000   \n",
       "50%                       0.000000                     0.000000   \n",
       "75%                       0.060000                     0.020000   \n",
       "max                       1.000000                     1.000000   \n",
       "\n",
       "       dst_host_serror_rate  dst_host_srv_serror_rate  dst_host_rerror_rate  \\\n",
       "count         125973.000000             125973.000000         125973.000000   \n",
       "mean               0.284452                  0.278485              0.118832   \n",
       "std                0.444784                  0.445669              0.306557   \n",
       "min                0.000000                  0.000000              0.000000   \n",
       "25%                0.000000                  0.000000              0.000000   \n",
       "50%                0.000000                  0.000000              0.000000   \n",
       "75%                1.000000                  1.000000              0.000000   \n",
       "max                1.000000                  1.000000              1.000000   \n",
       "\n",
       "       dst_host_srv_rerror_rate  \n",
       "count             125973.000000  \n",
       "mean                   0.120240  \n",
       "std                    0.319459  \n",
       "min                    0.000000  \n",
       "25%                    0.000000  \n",
       "50%                    0.000000  \n",
       "75%                    0.000000  \n",
       "max                    1.000000  \n",
       "\n",
       "[8 rows x 34 columns]"
      ]
     },
     "execution_count": 10,
     "metadata": {},
     "output_type": "execute_result"
    }
   ],
   "source": [
    "# Statistical overview of the numerical features in the training dataset\n",
    "dataset_train.describe()"
   ]
  },
  {
   "cell_type": "code",
   "execution_count": 11,
   "id": "306cf0b2",
   "metadata": {},
   "outputs": [
    {
     "data": {
      "text/html": [
       "<div>\n",
       "<style scoped>\n",
       "    .dataframe tbody tr th:only-of-type {\n",
       "        vertical-align: middle;\n",
       "    }\n",
       "\n",
       "    .dataframe tbody tr th {\n",
       "        vertical-align: top;\n",
       "    }\n",
       "\n",
       "    .dataframe thead th {\n",
       "        text-align: right;\n",
       "    }\n",
       "</style>\n",
       "<table border=\"1\" class=\"dataframe\">\n",
       "  <thead>\n",
       "    <tr style=\"text-align: right;\">\n",
       "      <th></th>\n",
       "      <th>duration</th>\n",
       "      <th>src_bytes</th>\n",
       "      <th>dst_bytes</th>\n",
       "      <th>wrong_fragment</th>\n",
       "      <th>urgent</th>\n",
       "      <th>hot</th>\n",
       "      <th>num_failed_logins</th>\n",
       "      <th>num_compromised</th>\n",
       "      <th>root_shell</th>\n",
       "      <th>su_attempted</th>\n",
       "      <th>...</th>\n",
       "      <th>dst_host_count</th>\n",
       "      <th>dst_host_srv_count</th>\n",
       "      <th>dst_host_same_srv_rate</th>\n",
       "      <th>dst_host_diff_srv_rate</th>\n",
       "      <th>dst_host_same_src_port_rate</th>\n",
       "      <th>dst_host_srv_diff_host_rate</th>\n",
       "      <th>dst_host_serror_rate</th>\n",
       "      <th>dst_host_srv_serror_rate</th>\n",
       "      <th>dst_host_rerror_rate</th>\n",
       "      <th>dst_host_srv_rerror_rate</th>\n",
       "    </tr>\n",
       "  </thead>\n",
       "  <tbody>\n",
       "    <tr>\n",
       "      <th>count</th>\n",
       "      <td>22544.000000</td>\n",
       "      <td>2.254400e+04</td>\n",
       "      <td>2.254400e+04</td>\n",
       "      <td>22544.000000</td>\n",
       "      <td>22544.000000</td>\n",
       "      <td>22544.000000</td>\n",
       "      <td>22544.000000</td>\n",
       "      <td>22544.000000</td>\n",
       "      <td>22544.000000</td>\n",
       "      <td>22544.000000</td>\n",
       "      <td>...</td>\n",
       "      <td>22544.000000</td>\n",
       "      <td>22544.000000</td>\n",
       "      <td>22544.000000</td>\n",
       "      <td>22544.000000</td>\n",
       "      <td>22544.000000</td>\n",
       "      <td>22544.000000</td>\n",
       "      <td>22544.000000</td>\n",
       "      <td>22544.000000</td>\n",
       "      <td>22544.000000</td>\n",
       "      <td>22544.000000</td>\n",
       "    </tr>\n",
       "    <tr>\n",
       "      <th>mean</th>\n",
       "      <td>218.859076</td>\n",
       "      <td>1.039545e+04</td>\n",
       "      <td>2.056019e+03</td>\n",
       "      <td>0.008428</td>\n",
       "      <td>0.000710</td>\n",
       "      <td>0.105394</td>\n",
       "      <td>0.021647</td>\n",
       "      <td>0.119899</td>\n",
       "      <td>0.002440</td>\n",
       "      <td>0.000266</td>\n",
       "      <td>...</td>\n",
       "      <td>193.869411</td>\n",
       "      <td>140.750532</td>\n",
       "      <td>0.608722</td>\n",
       "      <td>0.090540</td>\n",
       "      <td>0.132261</td>\n",
       "      <td>0.019638</td>\n",
       "      <td>0.097814</td>\n",
       "      <td>0.099426</td>\n",
       "      <td>0.233385</td>\n",
       "      <td>0.226683</td>\n",
       "    </tr>\n",
       "    <tr>\n",
       "      <th>std</th>\n",
       "      <td>1407.176612</td>\n",
       "      <td>4.727864e+05</td>\n",
       "      <td>2.121930e+04</td>\n",
       "      <td>0.142599</td>\n",
       "      <td>0.036473</td>\n",
       "      <td>0.928428</td>\n",
       "      <td>0.150328</td>\n",
       "      <td>7.269597</td>\n",
       "      <td>0.049334</td>\n",
       "      <td>0.021060</td>\n",
       "      <td>...</td>\n",
       "      <td>94.035663</td>\n",
       "      <td>111.783972</td>\n",
       "      <td>0.435688</td>\n",
       "      <td>0.220717</td>\n",
       "      <td>0.306268</td>\n",
       "      <td>0.085394</td>\n",
       "      <td>0.273139</td>\n",
       "      <td>0.281866</td>\n",
       "      <td>0.387229</td>\n",
       "      <td>0.400875</td>\n",
       "    </tr>\n",
       "    <tr>\n",
       "      <th>min</th>\n",
       "      <td>0.000000</td>\n",
       "      <td>0.000000e+00</td>\n",
       "      <td>0.000000e+00</td>\n",
       "      <td>0.000000</td>\n",
       "      <td>0.000000</td>\n",
       "      <td>0.000000</td>\n",
       "      <td>0.000000</td>\n",
       "      <td>0.000000</td>\n",
       "      <td>0.000000</td>\n",
       "      <td>0.000000</td>\n",
       "      <td>...</td>\n",
       "      <td>0.000000</td>\n",
       "      <td>0.000000</td>\n",
       "      <td>0.000000</td>\n",
       "      <td>0.000000</td>\n",
       "      <td>0.000000</td>\n",
       "      <td>0.000000</td>\n",
       "      <td>0.000000</td>\n",
       "      <td>0.000000</td>\n",
       "      <td>0.000000</td>\n",
       "      <td>0.000000</td>\n",
       "    </tr>\n",
       "    <tr>\n",
       "      <th>25%</th>\n",
       "      <td>0.000000</td>\n",
       "      <td>0.000000e+00</td>\n",
       "      <td>0.000000e+00</td>\n",
       "      <td>0.000000</td>\n",
       "      <td>0.000000</td>\n",
       "      <td>0.000000</td>\n",
       "      <td>0.000000</td>\n",
       "      <td>0.000000</td>\n",
       "      <td>0.000000</td>\n",
       "      <td>0.000000</td>\n",
       "      <td>...</td>\n",
       "      <td>121.000000</td>\n",
       "      <td>15.000000</td>\n",
       "      <td>0.070000</td>\n",
       "      <td>0.000000</td>\n",
       "      <td>0.000000</td>\n",
       "      <td>0.000000</td>\n",
       "      <td>0.000000</td>\n",
       "      <td>0.000000</td>\n",
       "      <td>0.000000</td>\n",
       "      <td>0.000000</td>\n",
       "    </tr>\n",
       "    <tr>\n",
       "      <th>50%</th>\n",
       "      <td>0.000000</td>\n",
       "      <td>5.400000e+01</td>\n",
       "      <td>4.600000e+01</td>\n",
       "      <td>0.000000</td>\n",
       "      <td>0.000000</td>\n",
       "      <td>0.000000</td>\n",
       "      <td>0.000000</td>\n",
       "      <td>0.000000</td>\n",
       "      <td>0.000000</td>\n",
       "      <td>0.000000</td>\n",
       "      <td>...</td>\n",
       "      <td>255.000000</td>\n",
       "      <td>168.000000</td>\n",
       "      <td>0.920000</td>\n",
       "      <td>0.010000</td>\n",
       "      <td>0.000000</td>\n",
       "      <td>0.000000</td>\n",
       "      <td>0.000000</td>\n",
       "      <td>0.000000</td>\n",
       "      <td>0.000000</td>\n",
       "      <td>0.000000</td>\n",
       "    </tr>\n",
       "    <tr>\n",
       "      <th>75%</th>\n",
       "      <td>0.000000</td>\n",
       "      <td>2.870000e+02</td>\n",
       "      <td>6.010000e+02</td>\n",
       "      <td>0.000000</td>\n",
       "      <td>0.000000</td>\n",
       "      <td>0.000000</td>\n",
       "      <td>0.000000</td>\n",
       "      <td>0.000000</td>\n",
       "      <td>0.000000</td>\n",
       "      <td>0.000000</td>\n",
       "      <td>...</td>\n",
       "      <td>255.000000</td>\n",
       "      <td>255.000000</td>\n",
       "      <td>1.000000</td>\n",
       "      <td>0.060000</td>\n",
       "      <td>0.030000</td>\n",
       "      <td>0.010000</td>\n",
       "      <td>0.000000</td>\n",
       "      <td>0.000000</td>\n",
       "      <td>0.360000</td>\n",
       "      <td>0.170000</td>\n",
       "    </tr>\n",
       "    <tr>\n",
       "      <th>max</th>\n",
       "      <td>57715.000000</td>\n",
       "      <td>6.282565e+07</td>\n",
       "      <td>1.345927e+06</td>\n",
       "      <td>3.000000</td>\n",
       "      <td>3.000000</td>\n",
       "      <td>101.000000</td>\n",
       "      <td>4.000000</td>\n",
       "      <td>796.000000</td>\n",
       "      <td>1.000000</td>\n",
       "      <td>2.000000</td>\n",
       "      <td>...</td>\n",
       "      <td>255.000000</td>\n",
       "      <td>255.000000</td>\n",
       "      <td>1.000000</td>\n",
       "      <td>1.000000</td>\n",
       "      <td>1.000000</td>\n",
       "      <td>1.000000</td>\n",
       "      <td>1.000000</td>\n",
       "      <td>1.000000</td>\n",
       "      <td>1.000000</td>\n",
       "      <td>1.000000</td>\n",
       "    </tr>\n",
       "  </tbody>\n",
       "</table>\n",
       "<p>8 rows × 34 columns</p>\n",
       "</div>"
      ],
      "text/plain": [
       "           duration     src_bytes     dst_bytes  wrong_fragment        urgent  \\\n",
       "count  22544.000000  2.254400e+04  2.254400e+04    22544.000000  22544.000000   \n",
       "mean     218.859076  1.039545e+04  2.056019e+03        0.008428      0.000710   \n",
       "std     1407.176612  4.727864e+05  2.121930e+04        0.142599      0.036473   \n",
       "min        0.000000  0.000000e+00  0.000000e+00        0.000000      0.000000   \n",
       "25%        0.000000  0.000000e+00  0.000000e+00        0.000000      0.000000   \n",
       "50%        0.000000  5.400000e+01  4.600000e+01        0.000000      0.000000   \n",
       "75%        0.000000  2.870000e+02  6.010000e+02        0.000000      0.000000   \n",
       "max    57715.000000  6.282565e+07  1.345927e+06        3.000000      3.000000   \n",
       "\n",
       "                hot  num_failed_logins  num_compromised    root_shell  \\\n",
       "count  22544.000000       22544.000000     22544.000000  22544.000000   \n",
       "mean       0.105394           0.021647         0.119899      0.002440   \n",
       "std        0.928428           0.150328         7.269597      0.049334   \n",
       "min        0.000000           0.000000         0.000000      0.000000   \n",
       "25%        0.000000           0.000000         0.000000      0.000000   \n",
       "50%        0.000000           0.000000         0.000000      0.000000   \n",
       "75%        0.000000           0.000000         0.000000      0.000000   \n",
       "max      101.000000           4.000000       796.000000      1.000000   \n",
       "\n",
       "       su_attempted  ...  dst_host_count  dst_host_srv_count  \\\n",
       "count  22544.000000  ...    22544.000000        22544.000000   \n",
       "mean       0.000266  ...      193.869411          140.750532   \n",
       "std        0.021060  ...       94.035663          111.783972   \n",
       "min        0.000000  ...        0.000000            0.000000   \n",
       "25%        0.000000  ...      121.000000           15.000000   \n",
       "50%        0.000000  ...      255.000000          168.000000   \n",
       "75%        0.000000  ...      255.000000          255.000000   \n",
       "max        2.000000  ...      255.000000          255.000000   \n",
       "\n",
       "       dst_host_same_srv_rate  dst_host_diff_srv_rate  \\\n",
       "count            22544.000000            22544.000000   \n",
       "mean                 0.608722                0.090540   \n",
       "std                  0.435688                0.220717   \n",
       "min                  0.000000                0.000000   \n",
       "25%                  0.070000                0.000000   \n",
       "50%                  0.920000                0.010000   \n",
       "75%                  1.000000                0.060000   \n",
       "max                  1.000000                1.000000   \n",
       "\n",
       "       dst_host_same_src_port_rate  dst_host_srv_diff_host_rate  \\\n",
       "count                 22544.000000                 22544.000000   \n",
       "mean                      0.132261                     0.019638   \n",
       "std                       0.306268                     0.085394   \n",
       "min                       0.000000                     0.000000   \n",
       "25%                       0.000000                     0.000000   \n",
       "50%                       0.000000                     0.000000   \n",
       "75%                       0.030000                     0.010000   \n",
       "max                       1.000000                     1.000000   \n",
       "\n",
       "       dst_host_serror_rate  dst_host_srv_serror_rate  dst_host_rerror_rate  \\\n",
       "count          22544.000000              22544.000000          22544.000000   \n",
       "mean               0.097814                  0.099426              0.233385   \n",
       "std                0.273139                  0.281866              0.387229   \n",
       "min                0.000000                  0.000000              0.000000   \n",
       "25%                0.000000                  0.000000              0.000000   \n",
       "50%                0.000000                  0.000000              0.000000   \n",
       "75%                0.000000                  0.000000              0.360000   \n",
       "max                1.000000                  1.000000              1.000000   \n",
       "\n",
       "       dst_host_srv_rerror_rate  \n",
       "count              22544.000000  \n",
       "mean                   0.226683  \n",
       "std                    0.400875  \n",
       "min                    0.000000  \n",
       "25%                    0.000000  \n",
       "50%                    0.000000  \n",
       "75%                    0.170000  \n",
       "max                    1.000000  \n",
       "\n",
       "[8 rows x 34 columns]"
      ]
     },
     "execution_count": 11,
     "metadata": {},
     "output_type": "execute_result"
    }
   ],
   "source": [
    "# Statistical overview of the numerical features in the test dataset\n",
    "dataset_test.describe()"
   ]
  },
  {
   "cell_type": "code",
   "execution_count": 12,
   "id": "97de900c",
   "metadata": {},
   "outputs": [
    {
     "name": "stdout",
     "output_type": "stream",
     "text": [
      "Label distribution Training set:\n",
      "class\n",
      "b'normal'     67343\n",
      "b'anomaly'    58630\n",
      "Name: count, dtype: int64\n"
     ]
    }
   ],
   "source": [
    "#Observe the Label Distribution of Training set\n",
    "print('Label distribution Training set:')\n",
    "print(dataset_train['class'].value_counts())"
   ]
  },
  {
   "cell_type": "code",
   "execution_count": 13,
   "id": "93ad8231",
   "metadata": {},
   "outputs": [
    {
     "name": "stdout",
     "output_type": "stream",
     "text": [
      "Label distribution Test set:\n",
      "class\n",
      "b'anomaly'    12833\n",
      "b'normal'      9711\n",
      "Name: count, dtype: int64\n"
     ]
    }
   ],
   "source": [
    "#Observe the Label Distribution of Test set\n",
    "print('Label distribution Test set:')\n",
    "print(dataset_test['class'].value_counts())"
   ]
  },
  {
   "cell_type": "code",
   "execution_count": 14,
   "id": "76fade3b",
   "metadata": {},
   "outputs": [],
   "source": [
    "#1)Handling missing data"
   ]
  },
  {
   "cell_type": "code",
   "execution_count": 15,
   "id": "6ac6c085",
   "metadata": {},
   "outputs": [
    {
     "data": {
      "text/html": [
       "<div>\n",
       "<style scoped>\n",
       "    .dataframe tbody tr th:only-of-type {\n",
       "        vertical-align: middle;\n",
       "    }\n",
       "\n",
       "    .dataframe tbody tr th {\n",
       "        vertical-align: top;\n",
       "    }\n",
       "\n",
       "    .dataframe thead th {\n",
       "        text-align: right;\n",
       "    }\n",
       "</style>\n",
       "<table border=\"1\" class=\"dataframe\">\n",
       "  <thead>\n",
       "    <tr style=\"text-align: right;\">\n",
       "      <th></th>\n",
       "      <th>missing_sum</th>\n",
       "      <th>missing_percentage</th>\n",
       "    </tr>\n",
       "  </thead>\n",
       "  <tbody>\n",
       "    <tr>\n",
       "      <th>duration</th>\n",
       "      <td>0</td>\n",
       "      <td>0.0</td>\n",
       "    </tr>\n",
       "    <tr>\n",
       "      <th>protocol_type</th>\n",
       "      <td>0</td>\n",
       "      <td>0.0</td>\n",
       "    </tr>\n",
       "    <tr>\n",
       "      <th>service</th>\n",
       "      <td>0</td>\n",
       "      <td>0.0</td>\n",
       "    </tr>\n",
       "    <tr>\n",
       "      <th>flag</th>\n",
       "      <td>0</td>\n",
       "      <td>0.0</td>\n",
       "    </tr>\n",
       "    <tr>\n",
       "      <th>src_bytes</th>\n",
       "      <td>0</td>\n",
       "      <td>0.0</td>\n",
       "    </tr>\n",
       "    <tr>\n",
       "      <th>dst_bytes</th>\n",
       "      <td>0</td>\n",
       "      <td>0.0</td>\n",
       "    </tr>\n",
       "    <tr>\n",
       "      <th>land</th>\n",
       "      <td>0</td>\n",
       "      <td>0.0</td>\n",
       "    </tr>\n",
       "    <tr>\n",
       "      <th>wrong_fragment</th>\n",
       "      <td>0</td>\n",
       "      <td>0.0</td>\n",
       "    </tr>\n",
       "    <tr>\n",
       "      <th>urgent</th>\n",
       "      <td>0</td>\n",
       "      <td>0.0</td>\n",
       "    </tr>\n",
       "    <tr>\n",
       "      <th>hot</th>\n",
       "      <td>0</td>\n",
       "      <td>0.0</td>\n",
       "    </tr>\n",
       "    <tr>\n",
       "      <th>num_failed_logins</th>\n",
       "      <td>0</td>\n",
       "      <td>0.0</td>\n",
       "    </tr>\n",
       "    <tr>\n",
       "      <th>logged_in</th>\n",
       "      <td>0</td>\n",
       "      <td>0.0</td>\n",
       "    </tr>\n",
       "    <tr>\n",
       "      <th>num_compromised</th>\n",
       "      <td>0</td>\n",
       "      <td>0.0</td>\n",
       "    </tr>\n",
       "    <tr>\n",
       "      <th>root_shell</th>\n",
       "      <td>0</td>\n",
       "      <td>0.0</td>\n",
       "    </tr>\n",
       "    <tr>\n",
       "      <th>su_attempted</th>\n",
       "      <td>0</td>\n",
       "      <td>0.0</td>\n",
       "    </tr>\n",
       "    <tr>\n",
       "      <th>num_root</th>\n",
       "      <td>0</td>\n",
       "      <td>0.0</td>\n",
       "    </tr>\n",
       "    <tr>\n",
       "      <th>num_file_creations</th>\n",
       "      <td>0</td>\n",
       "      <td>0.0</td>\n",
       "    </tr>\n",
       "    <tr>\n",
       "      <th>num_shells</th>\n",
       "      <td>0</td>\n",
       "      <td>0.0</td>\n",
       "    </tr>\n",
       "    <tr>\n",
       "      <th>num_access_files</th>\n",
       "      <td>0</td>\n",
       "      <td>0.0</td>\n",
       "    </tr>\n",
       "    <tr>\n",
       "      <th>num_outbound_cmds</th>\n",
       "      <td>0</td>\n",
       "      <td>0.0</td>\n",
       "    </tr>\n",
       "    <tr>\n",
       "      <th>is_host_login</th>\n",
       "      <td>0</td>\n",
       "      <td>0.0</td>\n",
       "    </tr>\n",
       "    <tr>\n",
       "      <th>is_guest_login</th>\n",
       "      <td>0</td>\n",
       "      <td>0.0</td>\n",
       "    </tr>\n",
       "    <tr>\n",
       "      <th>count</th>\n",
       "      <td>0</td>\n",
       "      <td>0.0</td>\n",
       "    </tr>\n",
       "    <tr>\n",
       "      <th>srv_count</th>\n",
       "      <td>0</td>\n",
       "      <td>0.0</td>\n",
       "    </tr>\n",
       "    <tr>\n",
       "      <th>serror_rate</th>\n",
       "      <td>0</td>\n",
       "      <td>0.0</td>\n",
       "    </tr>\n",
       "    <tr>\n",
       "      <th>srv_serror_rate</th>\n",
       "      <td>0</td>\n",
       "      <td>0.0</td>\n",
       "    </tr>\n",
       "    <tr>\n",
       "      <th>rerror_rate</th>\n",
       "      <td>0</td>\n",
       "      <td>0.0</td>\n",
       "    </tr>\n",
       "    <tr>\n",
       "      <th>srv_rerror_rate</th>\n",
       "      <td>0</td>\n",
       "      <td>0.0</td>\n",
       "    </tr>\n",
       "    <tr>\n",
       "      <th>same_srv_rate</th>\n",
       "      <td>0</td>\n",
       "      <td>0.0</td>\n",
       "    </tr>\n",
       "    <tr>\n",
       "      <th>diff_srv_rate</th>\n",
       "      <td>0</td>\n",
       "      <td>0.0</td>\n",
       "    </tr>\n",
       "    <tr>\n",
       "      <th>srv_diff_host_rate</th>\n",
       "      <td>0</td>\n",
       "      <td>0.0</td>\n",
       "    </tr>\n",
       "    <tr>\n",
       "      <th>dst_host_count</th>\n",
       "      <td>0</td>\n",
       "      <td>0.0</td>\n",
       "    </tr>\n",
       "    <tr>\n",
       "      <th>dst_host_srv_count</th>\n",
       "      <td>0</td>\n",
       "      <td>0.0</td>\n",
       "    </tr>\n",
       "    <tr>\n",
       "      <th>dst_host_same_srv_rate</th>\n",
       "      <td>0</td>\n",
       "      <td>0.0</td>\n",
       "    </tr>\n",
       "    <tr>\n",
       "      <th>dst_host_diff_srv_rate</th>\n",
       "      <td>0</td>\n",
       "      <td>0.0</td>\n",
       "    </tr>\n",
       "    <tr>\n",
       "      <th>dst_host_same_src_port_rate</th>\n",
       "      <td>0</td>\n",
       "      <td>0.0</td>\n",
       "    </tr>\n",
       "    <tr>\n",
       "      <th>dst_host_srv_diff_host_rate</th>\n",
       "      <td>0</td>\n",
       "      <td>0.0</td>\n",
       "    </tr>\n",
       "    <tr>\n",
       "      <th>dst_host_serror_rate</th>\n",
       "      <td>0</td>\n",
       "      <td>0.0</td>\n",
       "    </tr>\n",
       "    <tr>\n",
       "      <th>dst_host_srv_serror_rate</th>\n",
       "      <td>0</td>\n",
       "      <td>0.0</td>\n",
       "    </tr>\n",
       "    <tr>\n",
       "      <th>dst_host_rerror_rate</th>\n",
       "      <td>0</td>\n",
       "      <td>0.0</td>\n",
       "    </tr>\n",
       "    <tr>\n",
       "      <th>dst_host_srv_rerror_rate</th>\n",
       "      <td>0</td>\n",
       "      <td>0.0</td>\n",
       "    </tr>\n",
       "    <tr>\n",
       "      <th>class</th>\n",
       "      <td>0</td>\n",
       "      <td>0.0</td>\n",
       "    </tr>\n",
       "  </tbody>\n",
       "</table>\n",
       "</div>"
      ],
      "text/plain": [
       "                             missing_sum  missing_percentage\n",
       "duration                               0                 0.0\n",
       "protocol_type                          0                 0.0\n",
       "service                                0                 0.0\n",
       "flag                                   0                 0.0\n",
       "src_bytes                              0                 0.0\n",
       "dst_bytes                              0                 0.0\n",
       "land                                   0                 0.0\n",
       "wrong_fragment                         0                 0.0\n",
       "urgent                                 0                 0.0\n",
       "hot                                    0                 0.0\n",
       "num_failed_logins                      0                 0.0\n",
       "logged_in                              0                 0.0\n",
       "num_compromised                        0                 0.0\n",
       "root_shell                             0                 0.0\n",
       "su_attempted                           0                 0.0\n",
       "num_root                               0                 0.0\n",
       "num_file_creations                     0                 0.0\n",
       "num_shells                             0                 0.0\n",
       "num_access_files                       0                 0.0\n",
       "num_outbound_cmds                      0                 0.0\n",
       "is_host_login                          0                 0.0\n",
       "is_guest_login                         0                 0.0\n",
       "count                                  0                 0.0\n",
       "srv_count                              0                 0.0\n",
       "serror_rate                            0                 0.0\n",
       "srv_serror_rate                        0                 0.0\n",
       "rerror_rate                            0                 0.0\n",
       "srv_rerror_rate                        0                 0.0\n",
       "same_srv_rate                          0                 0.0\n",
       "diff_srv_rate                          0                 0.0\n",
       "srv_diff_host_rate                     0                 0.0\n",
       "dst_host_count                         0                 0.0\n",
       "dst_host_srv_count                     0                 0.0\n",
       "dst_host_same_srv_rate                 0                 0.0\n",
       "dst_host_diff_srv_rate                 0                 0.0\n",
       "dst_host_same_src_port_rate            0                 0.0\n",
       "dst_host_srv_diff_host_rate            0                 0.0\n",
       "dst_host_serror_rate                   0                 0.0\n",
       "dst_host_srv_serror_rate               0                 0.0\n",
       "dst_host_rerror_rate                   0                 0.0\n",
       "dst_host_srv_rerror_rate               0                 0.0\n",
       "class                                  0                 0.0"
      ]
     },
     "execution_count": 15,
     "metadata": {},
     "output_type": "execute_result"
    }
   ],
   "source": [
    "# visualize how many missed values you have per feature and their percentage in the train dataset.\n",
    "\n",
    "missing_values = dataset_train.isnull().sum()\n",
    "missing_percentage = dataset_train.isnull().sum()*100/len(dataset_train)\n",
    "missing_df = pd.DataFrame({'missing_sum': dataset_train.isnull().sum(),'missing_percentage': missing_percentage})\n",
    "missing_df\n"
   ]
  },
  {
   "cell_type": "code",
   "execution_count": 16,
   "id": "caf6653d",
   "metadata": {},
   "outputs": [
    {
     "data": {
      "text/html": [
       "<div>\n",
       "<style scoped>\n",
       "    .dataframe tbody tr th:only-of-type {\n",
       "        vertical-align: middle;\n",
       "    }\n",
       "\n",
       "    .dataframe tbody tr th {\n",
       "        vertical-align: top;\n",
       "    }\n",
       "\n",
       "    .dataframe thead th {\n",
       "        text-align: right;\n",
       "    }\n",
       "</style>\n",
       "<table border=\"1\" class=\"dataframe\">\n",
       "  <thead>\n",
       "    <tr style=\"text-align: right;\">\n",
       "      <th></th>\n",
       "      <th>missing_sum</th>\n",
       "      <th>missing_percentage</th>\n",
       "    </tr>\n",
       "  </thead>\n",
       "  <tbody>\n",
       "    <tr>\n",
       "      <th>duration</th>\n",
       "      <td>0</td>\n",
       "      <td>0.0</td>\n",
       "    </tr>\n",
       "    <tr>\n",
       "      <th>protocol_type</th>\n",
       "      <td>0</td>\n",
       "      <td>0.0</td>\n",
       "    </tr>\n",
       "    <tr>\n",
       "      <th>service</th>\n",
       "      <td>0</td>\n",
       "      <td>0.0</td>\n",
       "    </tr>\n",
       "    <tr>\n",
       "      <th>flag</th>\n",
       "      <td>0</td>\n",
       "      <td>0.0</td>\n",
       "    </tr>\n",
       "    <tr>\n",
       "      <th>src_bytes</th>\n",
       "      <td>0</td>\n",
       "      <td>0.0</td>\n",
       "    </tr>\n",
       "    <tr>\n",
       "      <th>dst_bytes</th>\n",
       "      <td>0</td>\n",
       "      <td>0.0</td>\n",
       "    </tr>\n",
       "    <tr>\n",
       "      <th>land</th>\n",
       "      <td>0</td>\n",
       "      <td>0.0</td>\n",
       "    </tr>\n",
       "    <tr>\n",
       "      <th>wrong_fragment</th>\n",
       "      <td>0</td>\n",
       "      <td>0.0</td>\n",
       "    </tr>\n",
       "    <tr>\n",
       "      <th>urgent</th>\n",
       "      <td>0</td>\n",
       "      <td>0.0</td>\n",
       "    </tr>\n",
       "    <tr>\n",
       "      <th>hot</th>\n",
       "      <td>0</td>\n",
       "      <td>0.0</td>\n",
       "    </tr>\n",
       "    <tr>\n",
       "      <th>num_failed_logins</th>\n",
       "      <td>0</td>\n",
       "      <td>0.0</td>\n",
       "    </tr>\n",
       "    <tr>\n",
       "      <th>logged_in</th>\n",
       "      <td>0</td>\n",
       "      <td>0.0</td>\n",
       "    </tr>\n",
       "    <tr>\n",
       "      <th>num_compromised</th>\n",
       "      <td>0</td>\n",
       "      <td>0.0</td>\n",
       "    </tr>\n",
       "    <tr>\n",
       "      <th>root_shell</th>\n",
       "      <td>0</td>\n",
       "      <td>0.0</td>\n",
       "    </tr>\n",
       "    <tr>\n",
       "      <th>su_attempted</th>\n",
       "      <td>0</td>\n",
       "      <td>0.0</td>\n",
       "    </tr>\n",
       "    <tr>\n",
       "      <th>num_root</th>\n",
       "      <td>0</td>\n",
       "      <td>0.0</td>\n",
       "    </tr>\n",
       "    <tr>\n",
       "      <th>num_file_creations</th>\n",
       "      <td>0</td>\n",
       "      <td>0.0</td>\n",
       "    </tr>\n",
       "    <tr>\n",
       "      <th>num_shells</th>\n",
       "      <td>0</td>\n",
       "      <td>0.0</td>\n",
       "    </tr>\n",
       "    <tr>\n",
       "      <th>num_access_files</th>\n",
       "      <td>0</td>\n",
       "      <td>0.0</td>\n",
       "    </tr>\n",
       "    <tr>\n",
       "      <th>num_outbound_cmds</th>\n",
       "      <td>0</td>\n",
       "      <td>0.0</td>\n",
       "    </tr>\n",
       "    <tr>\n",
       "      <th>is_host_login</th>\n",
       "      <td>0</td>\n",
       "      <td>0.0</td>\n",
       "    </tr>\n",
       "    <tr>\n",
       "      <th>is_guest_login</th>\n",
       "      <td>0</td>\n",
       "      <td>0.0</td>\n",
       "    </tr>\n",
       "    <tr>\n",
       "      <th>count</th>\n",
       "      <td>0</td>\n",
       "      <td>0.0</td>\n",
       "    </tr>\n",
       "    <tr>\n",
       "      <th>srv_count</th>\n",
       "      <td>0</td>\n",
       "      <td>0.0</td>\n",
       "    </tr>\n",
       "    <tr>\n",
       "      <th>serror_rate</th>\n",
       "      <td>0</td>\n",
       "      <td>0.0</td>\n",
       "    </tr>\n",
       "    <tr>\n",
       "      <th>srv_serror_rate</th>\n",
       "      <td>0</td>\n",
       "      <td>0.0</td>\n",
       "    </tr>\n",
       "    <tr>\n",
       "      <th>rerror_rate</th>\n",
       "      <td>0</td>\n",
       "      <td>0.0</td>\n",
       "    </tr>\n",
       "    <tr>\n",
       "      <th>srv_rerror_rate</th>\n",
       "      <td>0</td>\n",
       "      <td>0.0</td>\n",
       "    </tr>\n",
       "    <tr>\n",
       "      <th>same_srv_rate</th>\n",
       "      <td>0</td>\n",
       "      <td>0.0</td>\n",
       "    </tr>\n",
       "    <tr>\n",
       "      <th>diff_srv_rate</th>\n",
       "      <td>0</td>\n",
       "      <td>0.0</td>\n",
       "    </tr>\n",
       "    <tr>\n",
       "      <th>srv_diff_host_rate</th>\n",
       "      <td>0</td>\n",
       "      <td>0.0</td>\n",
       "    </tr>\n",
       "    <tr>\n",
       "      <th>dst_host_count</th>\n",
       "      <td>0</td>\n",
       "      <td>0.0</td>\n",
       "    </tr>\n",
       "    <tr>\n",
       "      <th>dst_host_srv_count</th>\n",
       "      <td>0</td>\n",
       "      <td>0.0</td>\n",
       "    </tr>\n",
       "    <tr>\n",
       "      <th>dst_host_same_srv_rate</th>\n",
       "      <td>0</td>\n",
       "      <td>0.0</td>\n",
       "    </tr>\n",
       "    <tr>\n",
       "      <th>dst_host_diff_srv_rate</th>\n",
       "      <td>0</td>\n",
       "      <td>0.0</td>\n",
       "    </tr>\n",
       "    <tr>\n",
       "      <th>dst_host_same_src_port_rate</th>\n",
       "      <td>0</td>\n",
       "      <td>0.0</td>\n",
       "    </tr>\n",
       "    <tr>\n",
       "      <th>dst_host_srv_diff_host_rate</th>\n",
       "      <td>0</td>\n",
       "      <td>0.0</td>\n",
       "    </tr>\n",
       "    <tr>\n",
       "      <th>dst_host_serror_rate</th>\n",
       "      <td>0</td>\n",
       "      <td>0.0</td>\n",
       "    </tr>\n",
       "    <tr>\n",
       "      <th>dst_host_srv_serror_rate</th>\n",
       "      <td>0</td>\n",
       "      <td>0.0</td>\n",
       "    </tr>\n",
       "    <tr>\n",
       "      <th>dst_host_rerror_rate</th>\n",
       "      <td>0</td>\n",
       "      <td>0.0</td>\n",
       "    </tr>\n",
       "    <tr>\n",
       "      <th>dst_host_srv_rerror_rate</th>\n",
       "      <td>0</td>\n",
       "      <td>0.0</td>\n",
       "    </tr>\n",
       "    <tr>\n",
       "      <th>class</th>\n",
       "      <td>0</td>\n",
       "      <td>0.0</td>\n",
       "    </tr>\n",
       "  </tbody>\n",
       "</table>\n",
       "</div>"
      ],
      "text/plain": [
       "                             missing_sum  missing_percentage\n",
       "duration                               0                 0.0\n",
       "protocol_type                          0                 0.0\n",
       "service                                0                 0.0\n",
       "flag                                   0                 0.0\n",
       "src_bytes                              0                 0.0\n",
       "dst_bytes                              0                 0.0\n",
       "land                                   0                 0.0\n",
       "wrong_fragment                         0                 0.0\n",
       "urgent                                 0                 0.0\n",
       "hot                                    0                 0.0\n",
       "num_failed_logins                      0                 0.0\n",
       "logged_in                              0                 0.0\n",
       "num_compromised                        0                 0.0\n",
       "root_shell                             0                 0.0\n",
       "su_attempted                           0                 0.0\n",
       "num_root                               0                 0.0\n",
       "num_file_creations                     0                 0.0\n",
       "num_shells                             0                 0.0\n",
       "num_access_files                       0                 0.0\n",
       "num_outbound_cmds                      0                 0.0\n",
       "is_host_login                          0                 0.0\n",
       "is_guest_login                         0                 0.0\n",
       "count                                  0                 0.0\n",
       "srv_count                              0                 0.0\n",
       "serror_rate                            0                 0.0\n",
       "srv_serror_rate                        0                 0.0\n",
       "rerror_rate                            0                 0.0\n",
       "srv_rerror_rate                        0                 0.0\n",
       "same_srv_rate                          0                 0.0\n",
       "diff_srv_rate                          0                 0.0\n",
       "srv_diff_host_rate                     0                 0.0\n",
       "dst_host_count                         0                 0.0\n",
       "dst_host_srv_count                     0                 0.0\n",
       "dst_host_same_srv_rate                 0                 0.0\n",
       "dst_host_diff_srv_rate                 0                 0.0\n",
       "dst_host_same_src_port_rate            0                 0.0\n",
       "dst_host_srv_diff_host_rate            0                 0.0\n",
       "dst_host_serror_rate                   0                 0.0\n",
       "dst_host_srv_serror_rate               0                 0.0\n",
       "dst_host_rerror_rate                   0                 0.0\n",
       "dst_host_srv_rerror_rate               0                 0.0\n",
       "class                                  0                 0.0"
      ]
     },
     "execution_count": 16,
     "metadata": {},
     "output_type": "execute_result"
    }
   ],
   "source": [
    "# visualize how many missed values you have per feature and their percentage in the test dataset.\n",
    "\n",
    "missing_values = dataset_test.isnull().sum()\n",
    "missing_percentage = dataset_test.isnull().sum()*100/len(dataset_test)\n",
    "missing_df = pd.DataFrame({'missing_sum': dataset_test.isnull().sum(),'missing_percentage': missing_percentage})\n",
    "missing_df"
   ]
  },
  {
   "cell_type": "code",
   "execution_count": 17,
   "id": "1489984a",
   "metadata": {},
   "outputs": [],
   "source": [
    "#Remove 'Service' and 'Flag'\n",
    "dataset_train = dataset_train.drop(['service', 'flag'], axis=1)\n",
    "dataset_test = dataset_test.drop(['service', 'flag'], axis=1)"
   ]
  },
  {
   "cell_type": "code",
   "execution_count": 18,
   "id": "55631bdf",
   "metadata": {},
   "outputs": [
    {
     "name": "stdout",
     "output_type": "stream",
     "text": [
      "[b'tcp']\n"
     ]
    }
   ],
   "source": [
    "#Select tcp traces for our experiments\n",
    "dataset_train = dataset_train[dataset_train['protocol_type'] == b'tcp']\n",
    "dataset_test = dataset_test[dataset_test['protocol_type'] == b'tcp']\n",
    "\n",
    "#Result\n",
    "print(dataset_train['protocol_type'].unique())\n"
   ]
  },
  {
   "cell_type": "code",
   "execution_count": 19,
   "id": "e91337f7",
   "metadata": {},
   "outputs": [],
   "source": [
    "# Perform one-hot encoding for 'protocol'\n",
    "dataset_train_encoded = pd.get_dummies(dataset_train, columns=['protocol_type'], drop_first=True)\n",
    "dataset_test_encoded = pd.get_dummies(dataset_test, columns=['protocol_type'], drop_first=True)"
   ]
  },
  {
   "cell_type": "code",
   "execution_count": 20,
   "id": "fd0ff7d4",
   "metadata": {},
   "outputs": [
    {
     "name": "stdout",
     "output_type": "stream",
     "text": [
      "Number of features in the training dataset: 39\n",
      "Number of features in the test dataset: 39\n"
     ]
    }
   ],
   "source": [
    "# Display the number of features in the datasets after dropping 'service' and 'flag'\n",
    "num_features_train = dataset_train_encoded.shape[1]\n",
    "num_features_test = dataset_test_encoded.shape[1]\n",
    "\n",
    "print(f\"Number of features in the training dataset: {num_features_train}\")\n",
    "print(f\"Number of features in the test dataset: {num_features_test}\")\n"
   ]
  },
  {
   "cell_type": "code",
   "execution_count": 21,
   "id": "0437a427",
   "metadata": {},
   "outputs": [
    {
     "name": "stdout",
     "output_type": "stream",
     "text": [
      "Label distribution Training set:\n",
      "class\n",
      "b'normal'     53600\n",
      "b'anomaly'    49089\n",
      "Name: count, dtype: int64\n",
      "************************************\n",
      "Label distribution Test set:\n",
      "class\n",
      "b'anomaly'    11038\n",
      "b'normal'      7842\n",
      "Name: count, dtype: int64\n"
     ]
    }
   ],
   "source": [
    "#Observe the Label Distribution of Training set\n",
    "print('Label distribution Training set:')\n",
    "print(dataset_train_encoded['class'].value_counts())\n",
    "print('************************************')\n",
    "#Observe the Label Distribution of Test set\n",
    "print('Label distribution Test set:')\n",
    "print(dataset_test_encoded['class'].value_counts())"
   ]
  },
  {
   "cell_type": "code",
   "execution_count": 22,
   "id": "645ea5e6",
   "metadata": {},
   "outputs": [],
   "source": [
    "#Drop Content-related features\n",
    "\n",
    "content_related_features = ['su_attempted','num_root','num_file_creations','num_shells','num_access_files',\n",
    "                            'num_outbound_cmds','is_host_login','is_guest_login','root_shell','num_compromised',\n",
    "                            'num_failed_logins','count','srv_count','num_access_files','num_shells']\n",
    "\n",
    "\n",
    "dataset_train_encoded = dataset_train_encoded.drop(content_related_features, axis=1)\n",
    "dataset_test_encoded = dataset_test_encoded.drop(content_related_features, axis=1)\n"
   ]
  },
  {
   "cell_type": "code",
   "execution_count": 23,
   "id": "6ec33957",
   "metadata": {},
   "outputs": [],
   "source": [
    "import pandas as pd\n",
    "from sklearn.preprocessing import StandardScaler\n",
    "from sklearn.neighbors import LocalOutlierFactor\n",
    "\n",
    "def remove_outliers(data, class_value, num_to_remove):\n",
    "   \n",
    "    instances = data[data['class'] == class_value]\n",
    "    \n",
    "    # Standardize the data\n",
    "    features = instances.drop(['class'], axis=1)\n",
    "    scaler = StandardScaler()\n",
    "    features_scaled = scaler.fit_transform(features)\n",
    "    \n",
    "    # Apply the LOF\n",
    "    lof = LocalOutlierFactor(n_neighbors=20, contamination=0.1) \n",
    "    outlier_scores = lof.fit_predict(features_scaled)\n",
    "    \n",
    "    # Add LOF scores as a new column\n",
    "    instances['lof_score'] = outlier_scores\n",
    "    \n",
    "    # Sort instances by LOF scores in ascending order\n",
    "    instances_sorted = instances.sort_values(by='lof_score', ascending=True)\n",
    "    \n",
    "    # Identify the indices of the number of outliers to remove\n",
    "    outliers_to_remove = instances_sorted.head(num_to_remove).index\n",
    "    \n",
    "    # Remove outliers\n",
    "    data_cleaned = data.drop(outliers_to_remove)\n",
    "    \n",
    "    return data_cleaned\n",
    "\n",
    "# Specify the number of outliers to remove \n",
    "num_train_outliers_to_remove = 49\n",
    "num_test_outliers_to_remove = 67\n",
    "\n",
    "# Remove outliers in dataset_train_encoded \n",
    "dataset_train_cleaned = remove_outliers(dataset_train_encoded, b'anomaly', num_train_outliers_to_remove)\n",
    "\n",
    "# Remove outliers in dataset_test_encoded \n",
    "dataset_test_cleaned = remove_outliers(dataset_test_encoded, b'anomaly', num_test_outliers_to_remove)\n",
    "\n",
    "\n"
   ]
  },
  {
   "cell_type": "code",
   "execution_count": 24,
   "id": "32cbd152",
   "metadata": {},
   "outputs": [
    {
     "name": "stdout",
     "output_type": "stream",
     "text": [
      "Label distribution Training set:\n",
      "class\n",
      "b'normal'     53600\n",
      "b'anomaly'    49040\n",
      "Name: count, dtype: int64\n",
      "************************************\n",
      "Label distribution Test set:\n",
      "class\n",
      "b'anomaly'    10971\n",
      "b'normal'      7842\n",
      "Name: count, dtype: int64\n"
     ]
    }
   ],
   "source": [
    "#Observe the Label Distribution of Training set\n",
    "print('Label distribution Training set:')\n",
    "print(dataset_train_cleaned['class'].value_counts())\n",
    "print('************************************')\n",
    "#Observe the Label Distribution of Test set\n",
    "print('Label distribution Test set:')\n",
    "print(dataset_test_cleaned['class'].value_counts())"
   ]
  },
  {
   "cell_type": "code",
   "execution_count": 25,
   "id": "290126b9",
   "metadata": {},
   "outputs": [],
   "source": [
    "#Recursive Feature Elimination(RFE)\n",
    "\n",
    "#from sklearn.feature_selection import RFE\n",
    "#clf = DecisionTreeClassifier(random_state=0)\n",
    "#rfe = RFE(estimator=clf, n_features_to_select=24, step=1)\n",
    "#label_encoder = LabelEncoder()\n",
    "#y_train_binary = label_encoder.fit_transform(y_train)\n",
    "#rfe.fit(X_train, y_train_binary)\n",
    "#X_rfetrain=rfe.transform(X_train)\n",
    "#true=rfe.support_\n",
    "\n",
    "\n",
    "\n",
    "\n"
   ]
  },
  {
   "cell_type": "code",
   "execution_count": 26,
   "id": "4ddf5ad6",
   "metadata": {},
   "outputs": [],
   "source": [
    "#Split the datasets\n",
    "X_train = dataset_train_cleaned.drop('class', axis=1)\n",
    "y_train = dataset_train_cleaned['class']\n",
    "\n",
    "X_test = dataset_test_cleaned.drop('class', axis=1)\n",
    "y_test = dataset_test_cleaned['class']"
   ]
  },
  {
   "cell_type": "markdown",
   "id": "ed180e29",
   "metadata": {},
   "source": [
    "#Normalization"
   ]
  },
  {
   "cell_type": "code",
   "execution_count": 27,
   "id": "c671d33d",
   "metadata": {},
   "outputs": [],
   "source": [
    "def normalizing(data):\n",
    "    for idx in range(len(data.columns)):\n",
    "        if data.nunique()[idx] != 2:\n",
    "            data.iloc[:,idx] = normalize([np.array(data.iloc[:,idx])]).reshape(-1)\n",
    "    return data"
   ]
  },
  {
   "cell_type": "markdown",
   "id": "a24ecb98",
   "metadata": {},
   "source": [
    "#PCA"
   ]
  },
  {
   "cell_type": "code",
   "execution_count": 28,
   "id": "a31b5cfc",
   "metadata": {},
   "outputs": [],
   "source": [
    "def PCA_transformation(data, dim = None):\n",
    "    pca = PCA()\n",
    "    pca.fit(data)\n",
    "    cum_vars = np.cumsum(pca.explained_variance_ratio_)\n",
    "    for i in range(len(cum_vars)):\n",
    "        if cum_vars[i] == 0.999:\n",
    "            break\n",
    "    if dim:\n",
    "        pca = PCA(dim)\n",
    "        data = pca.fit_transform(data)\n",
    "        return pd.DataFrame(data)\n",
    "    \n",
    "    pca = PCA(i)\n",
    "    data = pca.fit_transform(data)\n",
    "    return pd.DataFrame(data), i"
   ]
  },
  {
   "cell_type": "markdown",
   "id": "cffa7df2",
   "metadata": {},
   "source": [
    "#Feature Gaussian Mixture Probability Mode"
   ]
  },
  {
   "cell_type": "code",
   "execution_count": 29,
   "id": "c9a56db2",
   "metadata": {},
   "outputs": [],
   "source": [
    "from scipy.stats import norm\n",
    "import numpy as np\n",
    "\n",
    "def GMM_Row_Transform(data, values, threshold):\n",
    "    probs = []\n",
    "    for idx in range(len(data.columns)):\n",
    "        col_values = np.array(data.iloc[:, idx])\n",
    "\n",
    "        # Check if the column contains byte strings and decode them\n",
    "        if isinstance(col_values[0], bytes):\n",
    "            col_values = np.array([val.decode('utf-8') for val in col_values])\n",
    "\n",
    "        # Convert values to numeric, handling any non-numeric values\n",
    "        try:\n",
    "            col_values_numeric = pd.to_numeric(col_values)\n",
    "        except ValueError:\n",
    "            # Handle non-numeric values\n",
    "            col_values_numeric = np.nan\n",
    "\n",
    "        # Check if all values in the column are identical (std would be zero)\n",
    "        if np.all(col_values_numeric == col_values_numeric[0]):\n",
    "            prob = 0  # You can choose another value or strategy here\n",
    "        else:\n",
    "            mean = np.nanmean(col_values_numeric)  # Handle NaN values\n",
    "            std = np.nanstd(col_values_numeric)  # Handle NaN values\n",
    "\n",
    "            # Check if std is zero, and handle the case appropriately\n",
    "            if std == 0:\n",
    "                prob = 0  # You can choose another value or strategy here\n",
    "            else:\n",
    "                try:\n",
    "                    z_score = (float(values[idx]) - mean) / std\n",
    "                    prob = (1 - norm.cdf(z_score)) * 100\n",
    "                except (ValueError, TypeError):\n",
    "                    # Handle the case where 'values[idx]' cannot be converted to float\n",
    "                    prob = 0\n",
    "\n",
    "        probs.append(prob)\n",
    "    return probs\n"
   ]
  },
  {
   "cell_type": "code",
   "execution_count": 30,
   "id": "9ba6d142",
   "metadata": {},
   "outputs": [],
   "source": [
    "def GMM_Matrix_Transform(origin_data, data, threshold):\n",
    "    matrix = []\n",
    "    for i in tqdm(range(len(data))):\n",
    "        row = GMM_Row_Transform(origin_data, data.iloc[i,:], threshold)\n",
    "        \n",
    "        matrix.append(row)\n",
    "    return matrix"
   ]
  },
  {
   "cell_type": "code",
   "execution_count": 31,
   "id": "fb1404c9",
   "metadata": {},
   "outputs": [],
   "source": [
    "def GMM_vote(data, values, threshold):\n",
    "    no = 0\n",
    "    for idx in range(len(data.columns)):\n",
    "        mean = np.array(data.iloc[:,idx]).mean()\n",
    "        std = np.array(data.iloc[:,idx]).std()\n",
    "        if (std!=0):\n",
    "            z_score = (values[idx] - mean)/std\n",
    "            prob = (1-norm.cdf(z_score))*100\n",
    "            if prob <= threshold:\n",
    "                no += 1\n",
    "    return no"
   ]
  },
  {
   "cell_type": "markdown",
   "id": "8fa17314",
   "metadata": {},
   "source": [
    "#Creation du 8 datasets"
   ]
  },
  {
   "cell_type": "code",
   "execution_count": 32,
   "id": "e1ebb21b",
   "metadata": {},
   "outputs": [],
   "source": [
    "# filter raw data \n",
    "d_raw_train = dataset_train_cleaned\n",
    "d_raw_test = dataset_test_cleaned\n",
    "\n",
    "d_raw_train_normal= dataset_train_cleaned\n",
    "d_raw_test_normal= dataset_test_cleaned"
   ]
  },
  {
   "cell_type": "markdown",
   "id": "93a27a9f",
   "metadata": {},
   "source": [
    "D_raw_pca"
   ]
  },
  {
   "cell_type": "code",
   "execution_count": 33,
   "id": "344b6669",
   "metadata": {},
   "outputs": [],
   "source": [
    "label_encoder = LabelEncoder()\n",
    "d_raw_train['class'] = label_encoder.fit_transform(d_raw_train['class'])\n",
    "d_raw_test['class'] = label_encoder.transform(d_raw_test['class'])\n",
    "d_raw_pca_train, dim = PCA_transformation(d_raw_train)\n",
    "d_raw_pca_test = PCA_transformation(d_raw_test, dim)"
   ]
  },
  {
   "cell_type": "markdown",
   "id": "5b252219",
   "metadata": {},
   "source": [
    "D_raw_norm"
   ]
  },
  {
   "cell_type": "code",
   "execution_count": 34,
   "id": "40013bb1",
   "metadata": {},
   "outputs": [],
   "source": [
    "d_raw_norm_train = normalizing(d_raw_train)\n",
    "d_raw_norm_test = normalizing(d_raw_test)"
   ]
  },
  {
   "cell_type": "markdown",
   "id": "7afb2382",
   "metadata": {},
   "source": [
    "d_raw_norm_pca"
   ]
  },
  {
   "cell_type": "code",
   "execution_count": 35,
   "id": "3280e93c",
   "metadata": {},
   "outputs": [],
   "source": [
    "d_raw_norm_pca_train, dim = PCA_transformation(normalizing(d_raw_train))\n",
    "d_raw_norm_pca_test = PCA_transformation(normalizing(d_raw_test), dim)"
   ]
  },
  {
   "cell_type": "markdown",
   "id": "fb77696d",
   "metadata": {},
   "source": [
    "D_raw_probs"
   ]
  },
  {
   "cell_type": "code",
   "execution_count": null,
   "id": "934a6046",
   "metadata": {},
   "outputs": [
    {
     "name": "stderr",
     "output_type": "stream",
     "text": [
      "  0%|          | 141/102640 [00:33<6:22:13,  4.47it/s]"
     ]
    }
   ],
   "source": [
    "\n",
    "d_raw_probs_train = pd.DataFrame(GMM_Matrix_Transform(d_raw_train, d_raw_train, 50))\n",
    "d_raw_probs_test =  pd.DataFrame(GMM_Matrix_Transform(d_raw_train, d_raw_test, 50))"
   ]
  },
  {
   "cell_type": "code",
   "execution_count": 150,
   "id": "8bf5d4be",
   "metadata": {},
   "outputs": [
    {
     "name": "stderr",
     "output_type": "stream",
     "text": [
      "  0%|          | 114/102640 [00:21<5:15:12,  5.42it/s]\n"
     ]
    },
    {
     "ename": "KeyboardInterrupt",
     "evalue": "",
     "output_type": "error",
     "traceback": [
      "\u001b[1;31m---------------------------------------------------------------------------\u001b[0m",
      "\u001b[1;31mKeyboardInterrupt\u001b[0m                         Traceback (most recent call last)",
      "\u001b[1;32m~\\AppData\\Local\\Temp\\ipykernel_14588\\229249597.py\u001b[0m in \u001b[0;36m<module>\u001b[1;34m\u001b[0m\n\u001b[0;32m      1\u001b[0m \u001b[1;31m# normal\u001b[0m\u001b[1;33m\u001b[0m\u001b[1;33m\u001b[0m\u001b[0m\n\u001b[1;32m----> 2\u001b[1;33m \u001b[0md_raw_probs_train_normal\u001b[0m \u001b[1;33m=\u001b[0m \u001b[0mpd\u001b[0m\u001b[1;33m.\u001b[0m\u001b[0mDataFrame\u001b[0m\u001b[1;33m(\u001b[0m\u001b[0mGMM_Matrix_Transform\u001b[0m\u001b[1;33m(\u001b[0m\u001b[0md_raw_train_normal\u001b[0m\u001b[1;33m,\u001b[0m \u001b[0md_raw_train_normal\u001b[0m\u001b[1;33m,\u001b[0m \u001b[1;36m50\u001b[0m\u001b[1;33m)\u001b[0m\u001b[1;33m)\u001b[0m\u001b[1;33m\u001b[0m\u001b[1;33m\u001b[0m\u001b[0m\n\u001b[0m",
      "\u001b[1;32m~\\AppData\\Local\\Temp\\ipykernel_14588\\968364913.py\u001b[0m in \u001b[0;36mGMM_Matrix_Transform\u001b[1;34m(origin_data, data, threshold)\u001b[0m\n\u001b[0;32m      2\u001b[0m     \u001b[0mmatrix\u001b[0m \u001b[1;33m=\u001b[0m \u001b[1;33m[\u001b[0m\u001b[1;33m]\u001b[0m\u001b[1;33m\u001b[0m\u001b[1;33m\u001b[0m\u001b[0m\n\u001b[0;32m      3\u001b[0m     \u001b[1;32mfor\u001b[0m \u001b[0mi\u001b[0m \u001b[1;32min\u001b[0m \u001b[0mtqdm\u001b[0m\u001b[1;33m(\u001b[0m\u001b[0mrange\u001b[0m\u001b[1;33m(\u001b[0m\u001b[0mlen\u001b[0m\u001b[1;33m(\u001b[0m\u001b[0mdata\u001b[0m\u001b[1;33m)\u001b[0m\u001b[1;33m)\u001b[0m\u001b[1;33m)\u001b[0m\u001b[1;33m:\u001b[0m\u001b[1;33m\u001b[0m\u001b[1;33m\u001b[0m\u001b[0m\n\u001b[1;32m----> 4\u001b[1;33m         \u001b[0mrow\u001b[0m \u001b[1;33m=\u001b[0m \u001b[0mGMM_Row_Transform\u001b[0m\u001b[1;33m(\u001b[0m\u001b[0morigin_data\u001b[0m\u001b[1;33m,\u001b[0m \u001b[0mdata\u001b[0m\u001b[1;33m.\u001b[0m\u001b[0miloc\u001b[0m\u001b[1;33m[\u001b[0m\u001b[0mi\u001b[0m\u001b[1;33m,\u001b[0m\u001b[1;33m:\u001b[0m\u001b[1;33m]\u001b[0m\u001b[1;33m,\u001b[0m \u001b[0mthreshold\u001b[0m\u001b[1;33m)\u001b[0m\u001b[1;33m\u001b[0m\u001b[1;33m\u001b[0m\u001b[0m\n\u001b[0m\u001b[0;32m      5\u001b[0m \u001b[1;33m\u001b[0m\u001b[0m\n\u001b[0;32m      6\u001b[0m         \u001b[0mmatrix\u001b[0m\u001b[1;33m.\u001b[0m\u001b[0mappend\u001b[0m\u001b[1;33m(\u001b[0m\u001b[0mrow\u001b[0m\u001b[1;33m)\u001b[0m\u001b[1;33m\u001b[0m\u001b[1;33m\u001b[0m\u001b[0m\n",
      "\u001b[1;32m~\\AppData\\Local\\Temp\\ipykernel_14588\\1170665240.py\u001b[0m in \u001b[0;36mGMM_Row_Transform\u001b[1;34m(data, values, threshold)\u001b[0m\n\u001b[0;32m     13\u001b[0m         \u001b[1;31m# Convert values to numeric, handling any non-numeric values\u001b[0m\u001b[1;33m\u001b[0m\u001b[1;33m\u001b[0m\u001b[0m\n\u001b[0;32m     14\u001b[0m         \u001b[1;32mtry\u001b[0m\u001b[1;33m:\u001b[0m\u001b[1;33m\u001b[0m\u001b[1;33m\u001b[0m\u001b[0m\n\u001b[1;32m---> 15\u001b[1;33m             \u001b[0mcol_values_numeric\u001b[0m \u001b[1;33m=\u001b[0m \u001b[0mpd\u001b[0m\u001b[1;33m.\u001b[0m\u001b[0mto_numeric\u001b[0m\u001b[1;33m(\u001b[0m\u001b[0mcol_values\u001b[0m\u001b[1;33m)\u001b[0m\u001b[1;33m\u001b[0m\u001b[1;33m\u001b[0m\u001b[0m\n\u001b[0m\u001b[0;32m     16\u001b[0m         \u001b[1;32mexcept\u001b[0m \u001b[0mValueError\u001b[0m\u001b[1;33m:\u001b[0m\u001b[1;33m\u001b[0m\u001b[1;33m\u001b[0m\u001b[0m\n\u001b[0;32m     17\u001b[0m             \u001b[1;31m# Handle non-numeric values\u001b[0m\u001b[1;33m\u001b[0m\u001b[1;33m\u001b[0m\u001b[0m\n",
      "\u001b[1;32md:\\KRAYA\\anaconda\\lib\\site-packages\\pandas\\core\\tools\\numeric.py\u001b[0m in \u001b[0;36mto_numeric\u001b[1;34m(arg, errors, downcast)\u001b[0m\n\u001b[0;32m    182\u001b[0m         \u001b[0mcoerce_numeric\u001b[0m \u001b[1;33m=\u001b[0m \u001b[0merrors\u001b[0m \u001b[1;32mnot\u001b[0m \u001b[1;32min\u001b[0m \u001b[1;33m(\u001b[0m\u001b[1;34m\"ignore\"\u001b[0m\u001b[1;33m,\u001b[0m \u001b[1;34m\"raise\"\u001b[0m\u001b[1;33m)\u001b[0m\u001b[1;33m\u001b[0m\u001b[1;33m\u001b[0m\u001b[0m\n\u001b[0;32m    183\u001b[0m         \u001b[1;32mtry\u001b[0m\u001b[1;33m:\u001b[0m\u001b[1;33m\u001b[0m\u001b[1;33m\u001b[0m\u001b[0m\n\u001b[1;32m--> 184\u001b[1;33m             values, _ = lib.maybe_convert_numeric(\n\u001b[0m\u001b[0;32m    185\u001b[0m                 \u001b[0mvalues\u001b[0m\u001b[1;33m,\u001b[0m \u001b[0mset\u001b[0m\u001b[1;33m(\u001b[0m\u001b[1;33m)\u001b[0m\u001b[1;33m,\u001b[0m \u001b[0mcoerce_numeric\u001b[0m\u001b[1;33m=\u001b[0m\u001b[0mcoerce_numeric\u001b[0m\u001b[1;33m\u001b[0m\u001b[1;33m\u001b[0m\u001b[0m\n\u001b[0;32m    186\u001b[0m             )\n",
      "\u001b[1;31mKeyboardInterrupt\u001b[0m: "
     ]
    }
   ],
   "source": [
    "# normal\n",
    "d_raw_probs_train_normal = pd.DataFrame(GMM_Matrix_Transform(d_raw_train_normal, d_raw_train_normal, 50))"
   ]
  },
  {
   "cell_type": "markdown",
   "id": "ebfea89b",
   "metadata": {},
   "source": [
    "d_raw_pca_probs"
   ]
  },
  {
   "cell_type": "code",
   "execution_count": 55,
   "id": "bdf5e8f0",
   "metadata": {},
   "outputs": [
    {
     "name": "stderr",
     "output_type": "stream",
     "text": [
      "100%|██████████| 102640/102640 [30:12<00:00, 56.64it/s]\n",
      "100%|██████████| 18813/18813 [05:24<00:00, 57.89it/s]\n"
     ]
    }
   ],
   "source": [
    "d_raw_pca_probs_train, dim = PCA_transformation(d_raw_train)\n",
    "d_raw_pca_probs_train = pd.DataFrame(GMM_Matrix_Transform(d_raw_pca_probs_train, d_raw_pca_probs_train, 50))\n",
    "\n",
    "d_raw_pca_probs_test = PCA_transformation(d_raw_test, dim )\n",
    "d_raw_pca_probs_test = pd.DataFrame(GMM_Matrix_Transform(d_raw_pca_probs_train, d_raw_pca_probs_test, 50))"
   ]
  },
  {
   "cell_type": "code",
   "execution_count": 147,
   "id": "cb2ecf92",
   "metadata": {},
   "outputs": [
    {
     "ename": "NameError",
     "evalue": "name 'd_raw_train_normal' is not defined",
     "output_type": "error",
     "traceback": [
      "\u001b[1;31m---------------------------------------------------------------------------\u001b[0m",
      "\u001b[1;31mNameError\u001b[0m                                 Traceback (most recent call last)",
      "\u001b[1;32m~\\AppData\\Local\\Temp\\ipykernel_14588\\3775105810.py\u001b[0m in \u001b[0;36m<module>\u001b[1;34m\u001b[0m\n\u001b[0;32m      1\u001b[0m \u001b[1;31m# normal\u001b[0m\u001b[1;33m\u001b[0m\u001b[1;33m\u001b[0m\u001b[0m\n\u001b[1;32m----> 2\u001b[1;33m \u001b[0md_raw_pca_probs_train_normal\u001b[0m\u001b[1;33m,\u001b[0m \u001b[0mdim\u001b[0m \u001b[1;33m=\u001b[0m \u001b[0mPCA_transformation\u001b[0m\u001b[1;33m(\u001b[0m\u001b[0md_raw_train_normal\u001b[0m\u001b[1;33m)\u001b[0m\u001b[1;33m\u001b[0m\u001b[1;33m\u001b[0m\u001b[0m\n\u001b[0m\u001b[0;32m      3\u001b[0m \u001b[0md_raw_pca_probs_train_normal\u001b[0m \u001b[1;33m=\u001b[0m \u001b[0mpd\u001b[0m\u001b[1;33m.\u001b[0m\u001b[0mDataFrame\u001b[0m\u001b[1;33m(\u001b[0m\u001b[0mGMM_Matrix_Transform\u001b[0m\u001b[1;33m(\u001b[0m\u001b[0md_raw_pca_probs_train_normal\u001b[0m\u001b[1;33m,\u001b[0m \u001b[0md_raw_pca_probs_train_normal\u001b[0m\u001b[1;33m,\u001b[0m \u001b[1;36m50\u001b[0m\u001b[1;33m)\u001b[0m\u001b[1;33m)\u001b[0m\u001b[1;33m\u001b[0m\u001b[1;33m\u001b[0m\u001b[0m\n",
      "\u001b[1;31mNameError\u001b[0m: name 'd_raw_train_normal' is not defined"
     ]
    }
   ],
   "source": [
    "# normal\n",
    "d_raw_pca_probs_train_normal, dim = PCA_transformation(d_raw_train_normal)\n",
    "d_raw_pca_probs_train_normal = pd.DataFrame(GMM_Matrix_Transform(d_raw_pca_probs_train_normal, d_raw_pca_probs_train_normal, 50))"
   ]
  },
  {
   "cell_type": "markdown",
   "id": "d002e908",
   "metadata": {},
   "source": [
    "d_norm_probs"
   ]
  },
  {
   "cell_type": "code",
   "execution_count": 60,
   "id": "974b602c",
   "metadata": {},
   "outputs": [
    {
     "name": "stderr",
     "output_type": "stream",
     "text": [
      "  0%|          | 0/102640 [00:00<?, ?it/s]\n"
     ]
    },
    {
     "ename": "TypeError",
     "evalue": "ufunc 'true_divide' not supported for the input types, and the inputs could not be safely coerced to any supported types according to the casting rule ''safe''",
     "output_type": "error",
     "traceback": [
      "\u001b[1;31m---------------------------------------------------------------------------\u001b[0m",
      "\u001b[1;31mTypeError\u001b[0m                                 Traceback (most recent call last)",
      "\u001b[1;32m~\\AppData\\Local\\Temp\\ipykernel_3740\\768473571.py\u001b[0m in \u001b[0;36m<module>\u001b[1;34m\u001b[0m\n\u001b[0;32m      1\u001b[0m \u001b[0md_norm_probs_train\u001b[0m \u001b[1;33m=\u001b[0m \u001b[0mnormalizing\u001b[0m\u001b[1;33m(\u001b[0m\u001b[0md_raw_train\u001b[0m\u001b[1;33m)\u001b[0m\u001b[1;33m\u001b[0m\u001b[1;33m\u001b[0m\u001b[0m\n\u001b[1;32m----> 2\u001b[1;33m \u001b[0md_norm_probs_train\u001b[0m \u001b[1;33m=\u001b[0m \u001b[0mpd\u001b[0m\u001b[1;33m.\u001b[0m\u001b[0mDataFrame\u001b[0m\u001b[1;33m(\u001b[0m\u001b[0mGMM_Matrix_Transform\u001b[0m\u001b[1;33m(\u001b[0m\u001b[0md_norm_probs_train\u001b[0m\u001b[1;33m,\u001b[0m \u001b[0md_norm_probs_train\u001b[0m\u001b[1;33m,\u001b[0m \u001b[1;36m50\u001b[0m\u001b[1;33m)\u001b[0m\u001b[1;33m)\u001b[0m\u001b[1;33m\u001b[0m\u001b[1;33m\u001b[0m\u001b[0m\n\u001b[0m\u001b[0;32m      3\u001b[0m \u001b[1;33m\u001b[0m\u001b[0m\n\u001b[0;32m      4\u001b[0m \u001b[0md_norm_probs_test\u001b[0m \u001b[1;33m=\u001b[0m \u001b[0mnormalizing\u001b[0m\u001b[1;33m(\u001b[0m\u001b[0md_raw_test\u001b[0m\u001b[1;33m)\u001b[0m\u001b[1;33m\u001b[0m\u001b[1;33m\u001b[0m\u001b[0m\n\u001b[0;32m      5\u001b[0m \u001b[0md_norm_probs_test\u001b[0m \u001b[1;33m=\u001b[0m \u001b[0mpd\u001b[0m\u001b[1;33m.\u001b[0m\u001b[0mDataFrame\u001b[0m\u001b[1;33m(\u001b[0m\u001b[0mGMM_Matrix_Transform\u001b[0m\u001b[1;33m(\u001b[0m\u001b[0md_norm_probs_train\u001b[0m\u001b[1;33m,\u001b[0m \u001b[0md_norm_probs_test\u001b[0m\u001b[1;33m,\u001b[0m \u001b[1;36m50\u001b[0m\u001b[1;33m)\u001b[0m\u001b[1;33m)\u001b[0m\u001b[1;33m\u001b[0m\u001b[1;33m\u001b[0m\u001b[0m\n",
      "\u001b[1;32m~\\AppData\\Local\\Temp\\ipykernel_3740\\968364913.py\u001b[0m in \u001b[0;36mGMM_Matrix_Transform\u001b[1;34m(origin_data, data, threshold)\u001b[0m\n\u001b[0;32m      2\u001b[0m     \u001b[0mmatrix\u001b[0m \u001b[1;33m=\u001b[0m \u001b[1;33m[\u001b[0m\u001b[1;33m]\u001b[0m\u001b[1;33m\u001b[0m\u001b[1;33m\u001b[0m\u001b[0m\n\u001b[0;32m      3\u001b[0m     \u001b[1;32mfor\u001b[0m \u001b[0mi\u001b[0m \u001b[1;32min\u001b[0m \u001b[0mtqdm\u001b[0m\u001b[1;33m(\u001b[0m\u001b[0mrange\u001b[0m\u001b[1;33m(\u001b[0m\u001b[0mlen\u001b[0m\u001b[1;33m(\u001b[0m\u001b[0mdata\u001b[0m\u001b[1;33m)\u001b[0m\u001b[1;33m)\u001b[0m\u001b[1;33m)\u001b[0m\u001b[1;33m:\u001b[0m\u001b[1;33m\u001b[0m\u001b[1;33m\u001b[0m\u001b[0m\n\u001b[1;32m----> 4\u001b[1;33m         \u001b[0mrow\u001b[0m \u001b[1;33m=\u001b[0m \u001b[0mGMM_Row_Transform\u001b[0m\u001b[1;33m(\u001b[0m\u001b[0morigin_data\u001b[0m\u001b[1;33m,\u001b[0m \u001b[0mdata\u001b[0m\u001b[1;33m.\u001b[0m\u001b[0miloc\u001b[0m\u001b[1;33m[\u001b[0m\u001b[0mi\u001b[0m\u001b[1;33m,\u001b[0m\u001b[1;33m:\u001b[0m\u001b[1;33m]\u001b[0m\u001b[1;33m,\u001b[0m \u001b[0mthreshold\u001b[0m\u001b[1;33m)\u001b[0m\u001b[1;33m\u001b[0m\u001b[1;33m\u001b[0m\u001b[0m\n\u001b[0m\u001b[0;32m      5\u001b[0m \u001b[1;33m\u001b[0m\u001b[0m\n\u001b[0;32m      6\u001b[0m         \u001b[0mmatrix\u001b[0m\u001b[1;33m.\u001b[0m\u001b[0mappend\u001b[0m\u001b[1;33m(\u001b[0m\u001b[0mrow\u001b[0m\u001b[1;33m)\u001b[0m\u001b[1;33m\u001b[0m\u001b[1;33m\u001b[0m\u001b[0m\n",
      "\u001b[1;32m~\\AppData\\Local\\Temp\\ipykernel_3740\\3035374787.py\u001b[0m in \u001b[0;36mGMM_Row_Transform\u001b[1;34m(data, values, threshold)\u001b[0m\n\u001b[0;32m      2\u001b[0m     \u001b[0mprobs\u001b[0m \u001b[1;33m=\u001b[0m \u001b[1;33m[\u001b[0m\u001b[1;33m]\u001b[0m\u001b[1;33m\u001b[0m\u001b[1;33m\u001b[0m\u001b[0m\n\u001b[0;32m      3\u001b[0m     \u001b[1;32mfor\u001b[0m \u001b[0midx\u001b[0m \u001b[1;32min\u001b[0m \u001b[0mrange\u001b[0m\u001b[1;33m(\u001b[0m\u001b[0mlen\u001b[0m\u001b[1;33m(\u001b[0m\u001b[0mdata\u001b[0m\u001b[1;33m.\u001b[0m\u001b[0mcolumns\u001b[0m\u001b[1;33m)\u001b[0m\u001b[1;33m)\u001b[0m\u001b[1;33m:\u001b[0m\u001b[1;33m\u001b[0m\u001b[1;33m\u001b[0m\u001b[0m\n\u001b[1;32m----> 4\u001b[1;33m         \u001b[0mmean\u001b[0m \u001b[1;33m=\u001b[0m \u001b[0mnp\u001b[0m\u001b[1;33m.\u001b[0m\u001b[0marray\u001b[0m\u001b[1;33m(\u001b[0m\u001b[0mdata\u001b[0m\u001b[1;33m.\u001b[0m\u001b[0miloc\u001b[0m\u001b[1;33m[\u001b[0m\u001b[1;33m:\u001b[0m\u001b[1;33m,\u001b[0m\u001b[0midx\u001b[0m\u001b[1;33m]\u001b[0m\u001b[1;33m)\u001b[0m\u001b[1;33m.\u001b[0m\u001b[0mmean\u001b[0m\u001b[1;33m(\u001b[0m\u001b[1;33m)\u001b[0m\u001b[1;33m\u001b[0m\u001b[1;33m\u001b[0m\u001b[0m\n\u001b[0m\u001b[0;32m      5\u001b[0m         \u001b[0mstd\u001b[0m \u001b[1;33m=\u001b[0m \u001b[0mnp\u001b[0m\u001b[1;33m.\u001b[0m\u001b[0marray\u001b[0m\u001b[1;33m(\u001b[0m\u001b[0mdata\u001b[0m\u001b[1;33m.\u001b[0m\u001b[0miloc\u001b[0m\u001b[1;33m[\u001b[0m\u001b[1;33m:\u001b[0m\u001b[1;33m,\u001b[0m\u001b[0midx\u001b[0m\u001b[1;33m]\u001b[0m\u001b[1;33m)\u001b[0m\u001b[1;33m.\u001b[0m\u001b[0mstd\u001b[0m\u001b[1;33m(\u001b[0m\u001b[1;33m)\u001b[0m\u001b[1;33m\u001b[0m\u001b[1;33m\u001b[0m\u001b[0m\n\u001b[0;32m      6\u001b[0m \u001b[1;33m\u001b[0m\u001b[0m\n",
      "\u001b[1;32md:\\KRAYA\\anaconda\\lib\\site-packages\\numpy\\core\\_methods.py\u001b[0m in \u001b[0;36m_mean\u001b[1;34m(a, axis, dtype, out, keepdims, where)\u001b[0m\n\u001b[0;32m    189\u001b[0m             \u001b[0mret\u001b[0m \u001b[1;33m=\u001b[0m \u001b[0mret\u001b[0m\u001b[1;33m.\u001b[0m\u001b[0mdtype\u001b[0m\u001b[1;33m.\u001b[0m\u001b[0mtype\u001b[0m\u001b[1;33m(\u001b[0m\u001b[0mret\u001b[0m \u001b[1;33m/\u001b[0m \u001b[0mrcount\u001b[0m\u001b[1;33m)\u001b[0m\u001b[1;33m\u001b[0m\u001b[1;33m\u001b[0m\u001b[0m\n\u001b[0;32m    190\u001b[0m     \u001b[1;32melse\u001b[0m\u001b[1;33m:\u001b[0m\u001b[1;33m\u001b[0m\u001b[1;33m\u001b[0m\u001b[0m\n\u001b[1;32m--> 191\u001b[1;33m         \u001b[0mret\u001b[0m \u001b[1;33m=\u001b[0m \u001b[0mret\u001b[0m \u001b[1;33m/\u001b[0m \u001b[0mrcount\u001b[0m\u001b[1;33m\u001b[0m\u001b[1;33m\u001b[0m\u001b[0m\n\u001b[0m\u001b[0;32m    192\u001b[0m \u001b[1;33m\u001b[0m\u001b[0m\n\u001b[0;32m    193\u001b[0m     \u001b[1;32mreturn\u001b[0m \u001b[0mret\u001b[0m\u001b[1;33m\u001b[0m\u001b[1;33m\u001b[0m\u001b[0m\n",
      "\u001b[1;31mTypeError\u001b[0m: ufunc 'true_divide' not supported for the input types, and the inputs could not be safely coerced to any supported types according to the casting rule ''safe''"
     ]
    }
   ],
   "source": [
    "d_norm_probs_train = normalizing(d_raw_train)\n",
    "d_norm_probs_train = pd.DataFrame(GMM_Matrix_Transform(d_norm_probs_train, d_norm_probs_train, 50))\n",
    "\n",
    "d_norm_probs_test = normalizing(d_raw_test)\n",
    "d_norm_probs_test = pd.DataFrame(GMM_Matrix_Transform(d_norm_probs_train, d_norm_probs_test, 50))"
   ]
  },
  {
   "cell_type": "code",
   "execution_count": 61,
   "id": "33921d8a",
   "metadata": {},
   "outputs": [
    {
     "ename": "ValueError",
     "evalue": "Found array with 0 feature(s) (shape=(1, 0)) while a minimum of 1 is required by the normalize function.",
     "output_type": "error",
     "traceback": [
      "\u001b[1;31m---------------------------------------------------------------------------\u001b[0m",
      "\u001b[1;31mValueError\u001b[0m                                Traceback (most recent call last)",
      "\u001b[1;32m~\\AppData\\Local\\Temp\\ipykernel_3740\\957912179.py\u001b[0m in \u001b[0;36m<module>\u001b[1;34m\u001b[0m\n\u001b[0;32m      1\u001b[0m \u001b[1;31m# normal\u001b[0m\u001b[1;33m\u001b[0m\u001b[1;33m\u001b[0m\u001b[0m\n\u001b[1;32m----> 2\u001b[1;33m \u001b[0md_norm_probs_train_normal\u001b[0m \u001b[1;33m=\u001b[0m \u001b[0mnormalizing\u001b[0m\u001b[1;33m(\u001b[0m\u001b[0md_raw_train_normal\u001b[0m\u001b[1;33m)\u001b[0m\u001b[1;33m\u001b[0m\u001b[1;33m\u001b[0m\u001b[0m\n\u001b[0m\u001b[0;32m      3\u001b[0m \u001b[0md_norm_probs_train_normal\u001b[0m \u001b[1;33m=\u001b[0m \u001b[0mpd\u001b[0m\u001b[1;33m.\u001b[0m\u001b[0mDataFrame\u001b[0m\u001b[1;33m(\u001b[0m\u001b[0mGMM_Matrix_Transform\u001b[0m\u001b[1;33m(\u001b[0m\u001b[0md_norm_probs_train_normal\u001b[0m\u001b[1;33m,\u001b[0m \u001b[0md_norm_probs_train_normal\u001b[0m\u001b[1;33m,\u001b[0m \u001b[1;36m50\u001b[0m\u001b[1;33m)\u001b[0m\u001b[1;33m)\u001b[0m\u001b[1;33m\u001b[0m\u001b[1;33m\u001b[0m\u001b[0m\n",
      "\u001b[1;32m~\\AppData\\Local\\Temp\\ipykernel_3740\\3002322716.py\u001b[0m in \u001b[0;36mnormalizing\u001b[1;34m(data)\u001b[0m\n\u001b[0;32m      2\u001b[0m     \u001b[1;32mfor\u001b[0m \u001b[0midx\u001b[0m \u001b[1;32min\u001b[0m \u001b[0mrange\u001b[0m\u001b[1;33m(\u001b[0m\u001b[0mlen\u001b[0m\u001b[1;33m(\u001b[0m\u001b[0mdata\u001b[0m\u001b[1;33m.\u001b[0m\u001b[0mcolumns\u001b[0m\u001b[1;33m)\u001b[0m\u001b[1;33m)\u001b[0m\u001b[1;33m:\u001b[0m\u001b[1;33m\u001b[0m\u001b[1;33m\u001b[0m\u001b[0m\n\u001b[0;32m      3\u001b[0m         \u001b[1;32mif\u001b[0m \u001b[0mdata\u001b[0m\u001b[1;33m.\u001b[0m\u001b[0mnunique\u001b[0m\u001b[1;33m(\u001b[0m\u001b[1;33m)\u001b[0m\u001b[1;33m[\u001b[0m\u001b[0midx\u001b[0m\u001b[1;33m]\u001b[0m \u001b[1;33m!=\u001b[0m \u001b[1;36m2\u001b[0m\u001b[1;33m:\u001b[0m\u001b[1;33m\u001b[0m\u001b[1;33m\u001b[0m\u001b[0m\n\u001b[1;32m----> 4\u001b[1;33m             \u001b[0mdata\u001b[0m\u001b[1;33m.\u001b[0m\u001b[0miloc\u001b[0m\u001b[1;33m[\u001b[0m\u001b[1;33m:\u001b[0m\u001b[1;33m,\u001b[0m\u001b[0midx\u001b[0m\u001b[1;33m]\u001b[0m \u001b[1;33m=\u001b[0m \u001b[0mnormalize\u001b[0m\u001b[1;33m(\u001b[0m\u001b[1;33m[\u001b[0m\u001b[0mnp\u001b[0m\u001b[1;33m.\u001b[0m\u001b[0marray\u001b[0m\u001b[1;33m(\u001b[0m\u001b[0mdata\u001b[0m\u001b[1;33m.\u001b[0m\u001b[0miloc\u001b[0m\u001b[1;33m[\u001b[0m\u001b[1;33m:\u001b[0m\u001b[1;33m,\u001b[0m\u001b[0midx\u001b[0m\u001b[1;33m]\u001b[0m\u001b[1;33m)\u001b[0m\u001b[1;33m]\u001b[0m\u001b[1;33m)\u001b[0m\u001b[1;33m.\u001b[0m\u001b[0mreshape\u001b[0m\u001b[1;33m(\u001b[0m\u001b[1;33m-\u001b[0m\u001b[1;36m1\u001b[0m\u001b[1;33m)\u001b[0m\u001b[1;33m\u001b[0m\u001b[1;33m\u001b[0m\u001b[0m\n\u001b[0m\u001b[0;32m      5\u001b[0m     \u001b[1;32mreturn\u001b[0m \u001b[0mdata\u001b[0m\u001b[1;33m\u001b[0m\u001b[1;33m\u001b[0m\u001b[0m\n",
      "\u001b[1;32md:\\KRAYA\\anaconda\\lib\\site-packages\\sklearn\\preprocessing\\_data.py\u001b[0m in \u001b[0;36mnormalize\u001b[1;34m(X, norm, axis, copy, return_norm)\u001b[0m\n\u001b[0;32m   1790\u001b[0m         \u001b[1;32mraise\u001b[0m \u001b[0mValueError\u001b[0m\u001b[1;33m(\u001b[0m\u001b[1;34m\"'%d' is not a supported axis\"\u001b[0m \u001b[1;33m%\u001b[0m \u001b[0maxis\u001b[0m\u001b[1;33m)\u001b[0m\u001b[1;33m\u001b[0m\u001b[1;33m\u001b[0m\u001b[0m\n\u001b[0;32m   1791\u001b[0m \u001b[1;33m\u001b[0m\u001b[0m\n\u001b[1;32m-> 1792\u001b[1;33m     X = check_array(\n\u001b[0m\u001b[0;32m   1793\u001b[0m         \u001b[0mX\u001b[0m\u001b[1;33m,\u001b[0m\u001b[1;33m\u001b[0m\u001b[1;33m\u001b[0m\u001b[0m\n\u001b[0;32m   1794\u001b[0m         \u001b[0maccept_sparse\u001b[0m\u001b[1;33m=\u001b[0m\u001b[0msparse_format\u001b[0m\u001b[1;33m,\u001b[0m\u001b[1;33m\u001b[0m\u001b[1;33m\u001b[0m\u001b[0m\n",
      "\u001b[1;32md:\\KRAYA\\anaconda\\lib\\site-packages\\sklearn\\utils\\validation.py\u001b[0m in \u001b[0;36mcheck_array\u001b[1;34m(array, accept_sparse, accept_large_sparse, dtype, order, copy, force_all_finite, ensure_2d, allow_nd, ensure_min_samples, ensure_min_features, estimator)\u001b[0m\n\u001b[0;32m    812\u001b[0m         \u001b[0mn_features\u001b[0m \u001b[1;33m=\u001b[0m \u001b[0marray\u001b[0m\u001b[1;33m.\u001b[0m\u001b[0mshape\u001b[0m\u001b[1;33m[\u001b[0m\u001b[1;36m1\u001b[0m\u001b[1;33m]\u001b[0m\u001b[1;33m\u001b[0m\u001b[1;33m\u001b[0m\u001b[0m\n\u001b[0;32m    813\u001b[0m         \u001b[1;32mif\u001b[0m \u001b[0mn_features\u001b[0m \u001b[1;33m<\u001b[0m \u001b[0mensure_min_features\u001b[0m\u001b[1;33m:\u001b[0m\u001b[1;33m\u001b[0m\u001b[1;33m\u001b[0m\u001b[0m\n\u001b[1;32m--> 814\u001b[1;33m             raise ValueError(\n\u001b[0m\u001b[0;32m    815\u001b[0m                 \u001b[1;34m\"Found array with %d feature(s) (shape=%s) while\"\u001b[0m\u001b[1;33m\u001b[0m\u001b[1;33m\u001b[0m\u001b[0m\n\u001b[0;32m    816\u001b[0m                 \u001b[1;34m\" a minimum of %d is required%s.\"\u001b[0m\u001b[1;33m\u001b[0m\u001b[1;33m\u001b[0m\u001b[0m\n",
      "\u001b[1;31mValueError\u001b[0m: Found array with 0 feature(s) (shape=(1, 0)) while a minimum of 1 is required by the normalize function."
     ]
    }
   ],
   "source": [
    "# normal\n",
    "d_norm_probs_train_normal = normalizing(d_raw_train_normal)\n",
    "d_norm_probs_train_normal = pd.DataFrame(GMM_Matrix_Transform(d_norm_probs_train_normal, d_norm_probs_train_normal, 50))"
   ]
  },
  {
   "cell_type": "markdown",
   "id": "06b00047",
   "metadata": {},
   "source": [
    "d_norm_pca_probs"
   ]
  },
  {
   "cell_type": "code",
   "execution_count": 62,
   "id": "7fcba3ad",
   "metadata": {},
   "outputs": [
    {
     "name": "stderr",
     "output_type": "stream",
     "text": [
      "  1%|          | 814/102640 [00:14<30:20, 55.92it/s]\n"
     ]
    },
    {
     "ename": "KeyboardInterrupt",
     "evalue": "",
     "output_type": "error",
     "traceback": [
      "\u001b[1;31m---------------------------------------------------------------------------\u001b[0m",
      "\u001b[1;31mKeyboardInterrupt\u001b[0m                         Traceback (most recent call last)",
      "\u001b[1;32m~\\AppData\\Local\\Temp\\ipykernel_3740\\3136588540.py\u001b[0m in \u001b[0;36m<module>\u001b[1;34m\u001b[0m\n\u001b[0;32m      1\u001b[0m \u001b[0md_norm_pca_probs_train\u001b[0m \u001b[1;33m=\u001b[0m \u001b[0mnormalizing\u001b[0m\u001b[1;33m(\u001b[0m\u001b[0md_raw_train\u001b[0m\u001b[1;33m)\u001b[0m\u001b[1;33m\u001b[0m\u001b[1;33m\u001b[0m\u001b[0m\n\u001b[0;32m      2\u001b[0m \u001b[0md_norm_pca_probs_train\u001b[0m\u001b[1;33m,\u001b[0m \u001b[0mdim\u001b[0m \u001b[1;33m=\u001b[0m \u001b[0mPCA_transformation\u001b[0m\u001b[1;33m(\u001b[0m\u001b[0md_norm_pca_probs_train\u001b[0m\u001b[1;33m)\u001b[0m\u001b[1;33m\u001b[0m\u001b[1;33m\u001b[0m\u001b[0m\n\u001b[1;32m----> 3\u001b[1;33m \u001b[0md_norm_pca_probs_train\u001b[0m \u001b[1;33m=\u001b[0m \u001b[0mpd\u001b[0m\u001b[1;33m.\u001b[0m\u001b[0mDataFrame\u001b[0m\u001b[1;33m(\u001b[0m\u001b[0mGMM_Matrix_Transform\u001b[0m\u001b[1;33m(\u001b[0m\u001b[0md_norm_pca_probs_train\u001b[0m\u001b[1;33m,\u001b[0m \u001b[0md_norm_pca_probs_train\u001b[0m\u001b[1;33m,\u001b[0m \u001b[1;36m50\u001b[0m\u001b[1;33m)\u001b[0m\u001b[1;33m)\u001b[0m\u001b[1;33m\u001b[0m\u001b[1;33m\u001b[0m\u001b[0m\n\u001b[0m\u001b[0;32m      4\u001b[0m \u001b[1;33m\u001b[0m\u001b[0m\n\u001b[0;32m      5\u001b[0m \u001b[0md_norm_pca_probs_test\u001b[0m \u001b[1;33m=\u001b[0m \u001b[0mnormalizing\u001b[0m\u001b[1;33m(\u001b[0m\u001b[0md_raw_test\u001b[0m\u001b[1;33m)\u001b[0m\u001b[1;33m\u001b[0m\u001b[1;33m\u001b[0m\u001b[0m\n",
      "\u001b[1;32m~\\AppData\\Local\\Temp\\ipykernel_3740\\968364913.py\u001b[0m in \u001b[0;36mGMM_Matrix_Transform\u001b[1;34m(origin_data, data, threshold)\u001b[0m\n\u001b[0;32m      2\u001b[0m     \u001b[0mmatrix\u001b[0m \u001b[1;33m=\u001b[0m \u001b[1;33m[\u001b[0m\u001b[1;33m]\u001b[0m\u001b[1;33m\u001b[0m\u001b[1;33m\u001b[0m\u001b[0m\n\u001b[0;32m      3\u001b[0m     \u001b[1;32mfor\u001b[0m \u001b[0mi\u001b[0m \u001b[1;32min\u001b[0m \u001b[0mtqdm\u001b[0m\u001b[1;33m(\u001b[0m\u001b[0mrange\u001b[0m\u001b[1;33m(\u001b[0m\u001b[0mlen\u001b[0m\u001b[1;33m(\u001b[0m\u001b[0mdata\u001b[0m\u001b[1;33m)\u001b[0m\u001b[1;33m)\u001b[0m\u001b[1;33m)\u001b[0m\u001b[1;33m:\u001b[0m\u001b[1;33m\u001b[0m\u001b[1;33m\u001b[0m\u001b[0m\n\u001b[1;32m----> 4\u001b[1;33m         \u001b[0mrow\u001b[0m \u001b[1;33m=\u001b[0m \u001b[0mGMM_Row_Transform\u001b[0m\u001b[1;33m(\u001b[0m\u001b[0morigin_data\u001b[0m\u001b[1;33m,\u001b[0m \u001b[0mdata\u001b[0m\u001b[1;33m.\u001b[0m\u001b[0miloc\u001b[0m\u001b[1;33m[\u001b[0m\u001b[0mi\u001b[0m\u001b[1;33m,\u001b[0m\u001b[1;33m:\u001b[0m\u001b[1;33m]\u001b[0m\u001b[1;33m,\u001b[0m \u001b[0mthreshold\u001b[0m\u001b[1;33m)\u001b[0m\u001b[1;33m\u001b[0m\u001b[1;33m\u001b[0m\u001b[0m\n\u001b[0m\u001b[0;32m      5\u001b[0m \u001b[1;33m\u001b[0m\u001b[0m\n\u001b[0;32m      6\u001b[0m         \u001b[0mmatrix\u001b[0m\u001b[1;33m.\u001b[0m\u001b[0mappend\u001b[0m\u001b[1;33m(\u001b[0m\u001b[0mrow\u001b[0m\u001b[1;33m)\u001b[0m\u001b[1;33m\u001b[0m\u001b[1;33m\u001b[0m\u001b[0m\n",
      "\u001b[1;32m~\\AppData\\Local\\Temp\\ipykernel_3740\\3035374787.py\u001b[0m in \u001b[0;36mGMM_Row_Transform\u001b[1;34m(data, values, threshold)\u001b[0m\n\u001b[0;32m      2\u001b[0m     \u001b[0mprobs\u001b[0m \u001b[1;33m=\u001b[0m \u001b[1;33m[\u001b[0m\u001b[1;33m]\u001b[0m\u001b[1;33m\u001b[0m\u001b[1;33m\u001b[0m\u001b[0m\n\u001b[0;32m      3\u001b[0m     \u001b[1;32mfor\u001b[0m \u001b[0midx\u001b[0m \u001b[1;32min\u001b[0m \u001b[0mrange\u001b[0m\u001b[1;33m(\u001b[0m\u001b[0mlen\u001b[0m\u001b[1;33m(\u001b[0m\u001b[0mdata\u001b[0m\u001b[1;33m.\u001b[0m\u001b[0mcolumns\u001b[0m\u001b[1;33m)\u001b[0m\u001b[1;33m)\u001b[0m\u001b[1;33m:\u001b[0m\u001b[1;33m\u001b[0m\u001b[1;33m\u001b[0m\u001b[0m\n\u001b[1;32m----> 4\u001b[1;33m         \u001b[0mmean\u001b[0m \u001b[1;33m=\u001b[0m \u001b[0mnp\u001b[0m\u001b[1;33m.\u001b[0m\u001b[0marray\u001b[0m\u001b[1;33m(\u001b[0m\u001b[0mdata\u001b[0m\u001b[1;33m.\u001b[0m\u001b[0miloc\u001b[0m\u001b[1;33m[\u001b[0m\u001b[1;33m:\u001b[0m\u001b[1;33m,\u001b[0m\u001b[0midx\u001b[0m\u001b[1;33m]\u001b[0m\u001b[1;33m)\u001b[0m\u001b[1;33m.\u001b[0m\u001b[0mmean\u001b[0m\u001b[1;33m(\u001b[0m\u001b[1;33m)\u001b[0m\u001b[1;33m\u001b[0m\u001b[1;33m\u001b[0m\u001b[0m\n\u001b[0m\u001b[0;32m      5\u001b[0m         \u001b[0mstd\u001b[0m \u001b[1;33m=\u001b[0m \u001b[0mnp\u001b[0m\u001b[1;33m.\u001b[0m\u001b[0marray\u001b[0m\u001b[1;33m(\u001b[0m\u001b[0mdata\u001b[0m\u001b[1;33m.\u001b[0m\u001b[0miloc\u001b[0m\u001b[1;33m[\u001b[0m\u001b[1;33m:\u001b[0m\u001b[1;33m,\u001b[0m\u001b[0midx\u001b[0m\u001b[1;33m]\u001b[0m\u001b[1;33m)\u001b[0m\u001b[1;33m.\u001b[0m\u001b[0mstd\u001b[0m\u001b[1;33m(\u001b[0m\u001b[1;33m)\u001b[0m\u001b[1;33m\u001b[0m\u001b[1;33m\u001b[0m\u001b[0m\n\u001b[0;32m      6\u001b[0m \u001b[1;33m\u001b[0m\u001b[0m\n",
      "\u001b[1;31mKeyboardInterrupt\u001b[0m: "
     ]
    }
   ],
   "source": [
    "d_norm_pca_probs_train = normalizing(d_raw_train)\n",
    "d_norm_pca_probs_train, dim = PCA_transformation(d_norm_pca_probs_train)\n",
    "d_norm_pca_probs_train = pd.DataFrame(GMM_Matrix_Transform(d_norm_pca_probs_train, d_norm_pca_probs_train, 50))\n",
    "\n",
    "d_norm_pca_probs_test = normalizing(d_raw_test)\n",
    "d_norm_pca_probs_test, dim = PCA_transformation(d_norm_pca_probs_test)\n",
    "d_norm_pca_probs_test = pd.DataFrame(GMM_Matrix_Transform(d_norm_pca_probs_train, d_norm_pca_probs_test, 50))"
   ]
  },
  {
   "cell_type": "code",
   "execution_count": null,
   "id": "ca8a82bb",
   "metadata": {},
   "outputs": [],
   "source": [
    "d_norm_pca_probs_train_noraml = normalizing(d_raw_train_normal)\n",
    "d_norm_pca_probs_train_noraml, dim = PCA_transformation(d_norm_pca_probs_train_noraml)\n",
    "d_norm_pca_probs_train_noraml = pd.DataFrame(GMM_Matrix_Transform(d_norm_pca_probs_train_noraml, d_norm_pca_probs_train_noraml, 50))"
   ]
  },
  {
   "cell_type": "markdown",
   "id": "d6f1e75d",
   "metadata": {},
   "source": [
    "Models"
   ]
  },
  {
   "cell_type": "code",
   "execution_count": null,
   "id": "55045e2b",
   "metadata": {},
   "outputs": [],
   "source": [
    "def voting(data_train, data_test, min_abnormal_features = 10, threshold = 50):\n",
    "    preds = []\n",
    "    for idx in tqdm(range(len(data_test))):\n",
    "        values = list(data_test.iloc[idx,:])\n",
    "        no = GMM_vote(data_train, values, threshold)\n",
    "        if no > min_abnormal_features:\n",
    "            preds.append(1)\n",
    "        else:\n",
    "            preds.append(0)\n",
    "    return preds"
   ]
  },
  {
   "cell_type": "code",
   "execution_count": null,
   "id": "ec2a78c5",
   "metadata": {},
   "outputs": [],
   "source": [
    "def K_means_Distance(test_idx, test_data, model):\n",
    "    c1 = np.array(test_data.iloc[test_idx,:])\n",
    "    c2 = model.cluster_centers_[0]\n",
    "    temp = c1 - c2\n",
    "    euclid_dist = np.sqrt(np.dot(temp.T, temp))\n",
    "    euclid_dist\n",
    "    return euclid_dist"
   ]
  },
  {
   "cell_type": "code",
   "execution_count": null,
   "id": "e78350cb",
   "metadata": {},
   "outputs": [],
   "source": [
    "def kmd_model(test_data, train_data, model, threshold_dis):\n",
    "    kmd_d_raw_preds  = [] \n",
    "    for idx in tqdm(range(len(test_data))):\n",
    "        dis = K_means_Distance(idx, test_data, model)\n",
    "        if dis > threshold_dis:\n",
    "            kmd_d_raw_preds.append(1)\n",
    "        else:\n",
    "            kmd_d_raw_preds.append(0)\n",
    "    return kmd_d_raw_preds"
   ]
  },
  {
   "cell_type": "code",
   "execution_count": null,
   "id": "49e55bd6",
   "metadata": {},
   "outputs": [],
   "source": [
    "def SVM_model(train_data, test_data):\n",
    "    model = SVC()\n",
    "    model.fit(train_data, train_target)\n",
    "    preds = model.predict(test_data)\n",
    "    return preds"
   ]
  },
  {
   "cell_type": "code",
   "execution_count": null,
   "id": "6567593e",
   "metadata": {},
   "outputs": [],
   "source": [
    "def kmean_C_model(train_data, test_data):\n",
    "    kmeans = KMeans(n_clusters=2, n_init=\"auto\").fit(train_data)\n",
    "    preds = kmeans.predict(test_data)\n",
    "    return preds"
   ]
  },
  {
   "cell_type": "code",
   "execution_count": null,
   "id": "ac1f7586",
   "metadata": {},
   "outputs": [],
   "source": [
    "def dt_model(train_data, test_data):\n",
    "    model = tree.DecisionTreeClassifier()\n",
    "    model.fit(train_data, train_target)\n",
    "    preds = model.predict(test_data)\n",
    "    return preds"
   ]
  },
  {
   "cell_type": "code",
   "execution_count": null,
   "id": "209e9c21",
   "metadata": {},
   "outputs": [],
   "source": [
    "def mlp_model(train_data, test_data):\n",
    "    model = MLPClassifier(max_iter=300).fit(train_data, train_target)\n",
    "    preds = model.predict(test_data)\n",
    "    return preds"
   ]
  },
  {
   "cell_type": "markdown",
   "id": "ecea6183",
   "metadata": {},
   "source": [
    "VOTING"
   ]
  },
  {
   "cell_type": "markdown",
   "id": "9d9132b3",
   "metadata": {},
   "source": [
    "Voting for d-raw"
   ]
  },
  {
   "cell_type": "code",
   "execution_count": null,
   "id": "3841b645",
   "metadata": {},
   "outputs": [],
   "source": [
    "voting_d_raw_preds = voting(d_raw_train_normal, d_raw_test, min_abnormal_features = 10, threshold = 50)"
   ]
  },
  {
   "cell_type": "markdown",
   "id": "f9ba8ddc",
   "metadata": {},
   "source": [
    "Voting for d-raw-pca"
   ]
  },
  {
   "cell_type": "markdown",
   "id": "47d98fa8",
   "metadata": {},
   "source": [
    "d_raw_pca_train_normal, _ = PCA_transformation(d_raw_train_normal)"
   ]
  },
  {
   "cell_type": "code",
   "execution_count": null,
   "id": "cbafc013",
   "metadata": {},
   "outputs": [],
   "source": [
    "voting_d_raw_pac_preds = voting(d_raw_pca_train_normal, d_raw_pca_test, min_abnormal_features = 10, threshold = 50)"
   ]
  },
  {
   "cell_type": "markdown",
   "id": "3629779b",
   "metadata": {},
   "source": [
    "Voting for d_raw_norm"
   ]
  },
  {
   "cell_type": "markdown",
   "id": "3d7ab6a5",
   "metadata": {},
   "source": [
    "d_raw_norm_train_normal = normalizing(d_raw_train_normal)"
   ]
  },
  {
   "cell_type": "code",
   "execution_count": null,
   "id": "50d7cb3c",
   "metadata": {},
   "outputs": [],
   "source": [
    "voting_d_raw_norm_preds = voting(d_raw_norm_train_normal, d_raw_norm_test, min_abnormal_features = 10, threshold = 50)"
   ]
  },
  {
   "cell_type": "markdown",
   "id": "2a018d51",
   "metadata": {},
   "source": [
    "Voting for d_raw_norm_pca"
   ]
  },
  {
   "cell_type": "markdown",
   "id": "7c62b7a8",
   "metadata": {},
   "source": [
    "d_raw_norm_pca_train_noraml, dim = PCA_transformation(normalizing(d_raw_train_normal))"
   ]
  },
  {
   "cell_type": "code",
   "execution_count": null,
   "id": "052678e9",
   "metadata": {},
   "outputs": [],
   "source": [
    "voting_d_raw_norm_pac_preds = voting(d_raw_norm_pca_train, d_raw_norm_pca_test, min_abnormal_features = 10, threshold = 50)"
   ]
  },
  {
   "cell_type": "markdown",
   "id": "bf7510ab",
   "metadata": {},
   "source": [
    "KM-D"
   ]
  },
  {
   "cell_type": "markdown",
   "id": "c05310ed",
   "metadata": {},
   "source": [
    "KM-D for d-raw"
   ]
  },
  {
   "cell_type": "code",
   "execution_count": null,
   "id": "0d09afe0",
   "metadata": {},
   "outputs": [],
   "source": [
    "kmeans = KMeans(n_clusters=1, random_state=0, n_init=\"auto\").fit(d_raw_train_normal)\n",
    "kmd_d_raw_preds = kmd_model(d_raw_test, d_raw_train_normal,kmeans, 0.8)"
   ]
  },
  {
   "cell_type": "markdown",
   "id": "926276fc",
   "metadata": {},
   "source": [
    "KM-D for d_raw_pca"
   ]
  },
  {
   "cell_type": "code",
   "execution_count": null,
   "id": "b717192a",
   "metadata": {},
   "outputs": [],
   "source": [
    "kmeans = KMeans(n_clusters=1, random_state=0, n_init=\"auto\").fit(d_raw_pca_train_normal)\n",
    "kmd_d_raw_pca_preds = kmd_model(d_raw_pca_test, d_raw_pca_train_normal,kmeans,0.8)"
   ]
  },
  {
   "cell_type": "markdown",
   "id": "a14e0992",
   "metadata": {},
   "source": [
    "KM-D for d_raw_norm"
   ]
  },
  {
   "cell_type": "code",
   "execution_count": null,
   "id": "0fdba4c2",
   "metadata": {},
   "outputs": [],
   "source": [
    "kmeans = KMeans(n_clusters=1, random_state=0, n_init=\"auto\").fit(d_raw_norm_train_normal)\n",
    "kmd_d_raw_norm_preds = kmd_model(d_raw_norm_test, d_raw_norm_train_normal,kmeans,0.5)\n",
    "# np.unique(kmd_d_raw_norm_preds, return_counts=True)"
   ]
  },
  {
   "cell_type": "markdown",
   "id": "ece17e09",
   "metadata": {},
   "source": [
    "KM-D for d_raw_norm_pca"
   ]
  },
  {
   "cell_type": "code",
   "execution_count": null,
   "id": "2b167c4a",
   "metadata": {},
   "outputs": [],
   "source": [
    "kmeans = KMeans(n_clusters=1, random_state=0, n_init=\"auto\").fit(d_raw_norm_pca_train_noraml)\n",
    "kmd_d_raw_norm_pca_preds = kmd_model(d_raw_norm_pca_test, d_raw_norm_pca_train_noraml,kmeans,0.5)"
   ]
  },
  {
   "cell_type": "markdown",
   "id": "c3867576",
   "metadata": {},
   "source": [
    "KM-D for d_raw_probs"
   ]
  },
  {
   "cell_type": "code",
   "execution_count": null,
   "id": "3290284e",
   "metadata": {},
   "outputs": [],
   "source": [
    "kmeans = KMeans(n_clusters=1, random_state=0, n_init=\"auto\").fit(d_raw_probs_train_normal)\n",
    "kmd_d_raw_probs_preds = kmd_model(d_raw_probs_test, d_raw_probs_train_normal,kmeans,150)"
   ]
  },
  {
   "cell_type": "markdown",
   "id": "744a5fb1",
   "metadata": {},
   "source": [
    "KM-D for d_raw_pca_probs"
   ]
  },
  {
   "cell_type": "code",
   "execution_count": null,
   "id": "1028aa84",
   "metadata": {},
   "outputs": [],
   "source": [
    "kmeans = KMeans(n_clusters=1, random_state=0, n_init=\"auto\").fit(d_raw_pca_probs_train_normal)\n",
    "kmd_d_raw_pca_probs_preds = kmd_model(d_raw_pca_probs_test, d_raw_pca_probs_train_normal,kmeans,165)"
   ]
  },
  {
   "cell_type": "markdown",
   "id": "d9139caf",
   "metadata": {},
   "source": [
    "KM-D for d_norm_probs"
   ]
  },
  {
   "cell_type": "code",
   "execution_count": null,
   "id": "8f73050f",
   "metadata": {},
   "outputs": [],
   "source": [
    "kmeans = KMeans(n_clusters=1, random_state=0, n_init=\"auto\").fit(d_norm_probs_train_normal)\n",
    "kmd_d_raw_norm_probs_preds = kmd_model(d_norm_probs_test, d_norm_probs_train_normal,kmeans,150)"
   ]
  },
  {
   "cell_type": "markdown",
   "id": "062f5da7",
   "metadata": {},
   "source": [
    "KM-D for d_norm_pca_probs"
   ]
  },
  {
   "cell_type": "code",
   "execution_count": null,
   "id": "21c4cb7e",
   "metadata": {},
   "outputs": [],
   "source": [
    "kmeans = KMeans(n_clusters=1, random_state=0, n_init=\"auto\").fit(d_norm_pca_probs_train_noraml)\n",
    "kmd_d_raw_norm_pca_probs_preds = kmd_model(d_norm_pca_probs_test, d_norm_pca_probs_train_noraml,kmeans,176)"
   ]
  },
  {
   "cell_type": "markdown",
   "id": "d40656b6",
   "metadata": {},
   "source": [
    "SVM"
   ]
  },
  {
   "cell_type": "markdown",
   "id": "3c03f822",
   "metadata": {},
   "source": [
    "SVM for d-raw\n"
   ]
  },
  {
   "cell_type": "code",
   "execution_count": null,
   "id": "3c35e05f",
   "metadata": {},
   "outputs": [],
   "source": [
    "svm_d_raw_preds = SVM_model(d_raw_train, d_raw_test)"
   ]
  },
  {
   "cell_type": "markdown",
   "id": "2109bec6",
   "metadata": {},
   "source": [
    "SVM for d_raw_pca"
   ]
  },
  {
   "cell_type": "code",
   "execution_count": null,
   "id": "4a5196cd",
   "metadata": {},
   "outputs": [],
   "source": [
    "svm_d_raw_pca_preds = SVM_model(d_raw_pca_train, d_raw_pca_test)"
   ]
  },
  {
   "cell_type": "markdown",
   "id": "95c0a22c",
   "metadata": {},
   "source": [
    "SVM for d_raw_norm"
   ]
  },
  {
   "cell_type": "code",
   "execution_count": null,
   "id": "a8931dc7",
   "metadata": {},
   "outputs": [],
   "source": [
    "svm_d_raw_norm_preds = SVM_model(d_raw_norm_train, d_raw_norm_test)"
   ]
  },
  {
   "cell_type": "markdown",
   "id": "bebb5c12",
   "metadata": {},
   "source": [
    "SVM for d_raw_norm_pca"
   ]
  },
  {
   "cell_type": "code",
   "execution_count": null,
   "id": "02a2d6bb",
   "metadata": {},
   "outputs": [],
   "source": [
    "svm_d_raw_norm_pca_preds = SVM_model(d_raw_norm_pca_train, d_raw_norm_pca_test)"
   ]
  },
  {
   "cell_type": "markdown",
   "id": "3f54c842",
   "metadata": {},
   "source": [
    "SVM for d_raw_probs"
   ]
  },
  {
   "cell_type": "code",
   "execution_count": 56,
   "id": "c86e31d7",
   "metadata": {},
   "outputs": [
    {
     "ename": "NameError",
     "evalue": "name 'SVM_model' is not defined",
     "output_type": "error",
     "traceback": [
      "\u001b[1;31m---------------------------------------------------------------------------\u001b[0m",
      "\u001b[1;31mNameError\u001b[0m                                 Traceback (most recent call last)",
      "\u001b[1;32m~\\AppData\\Local\\Temp\\ipykernel_3740\\3695243111.py\u001b[0m in \u001b[0;36m<module>\u001b[1;34m\u001b[0m\n\u001b[1;32m----> 1\u001b[1;33m \u001b[0msvm_d_raw_probs_preds\u001b[0m \u001b[1;33m=\u001b[0m \u001b[0mSVM_model\u001b[0m\u001b[1;33m(\u001b[0m\u001b[0md_raw_probs_train\u001b[0m\u001b[1;33m,\u001b[0m \u001b[0md_raw_probs_test\u001b[0m\u001b[1;33m)\u001b[0m\u001b[1;33m\u001b[0m\u001b[1;33m\u001b[0m\u001b[0m\n\u001b[0m",
      "\u001b[1;31mNameError\u001b[0m: name 'SVM_model' is not defined"
     ]
    }
   ],
   "source": [
    "svm_d_raw_probs_preds = SVM_model(d_raw_probs_train, d_raw_probs_test)"
   ]
  },
  {
   "cell_type": "markdown",
   "id": "9bc2a88f",
   "metadata": {},
   "source": [
    "SVM for d_raw_pca_probs"
   ]
  },
  {
   "cell_type": "code",
   "execution_count": null,
   "id": "d2b0dd35",
   "metadata": {},
   "outputs": [],
   "source": [
    "svm_d_raw_pca_probs_preds = SVM_model(d_raw_pca_probs_train, d_raw_pca_probs_test)"
   ]
  },
  {
   "cell_type": "markdown",
   "id": "fbab3926",
   "metadata": {},
   "source": [
    "SVM for d_norm_probs"
   ]
  },
  {
   "cell_type": "code",
   "execution_count": null,
   "id": "98446400",
   "metadata": {},
   "outputs": [],
   "source": [
    "svm_d_norm_probs_preds = SVM_model(d_norm_probs_train, d_norm_probs_test)"
   ]
  },
  {
   "cell_type": "markdown",
   "id": "ac2dc839",
   "metadata": {},
   "source": [
    "SVM for d_norm_pca_probs"
   ]
  },
  {
   "cell_type": "code",
   "execution_count": null,
   "id": "d95f6160",
   "metadata": {},
   "outputs": [],
   "source": [
    "svm_d_norm_pca_probs_preds = SVM_model(d_norm_pca_probs_train, d_norm_pca_probs_test)"
   ]
  },
  {
   "cell_type": "markdown",
   "id": "8231db4a",
   "metadata": {},
   "source": [
    "KM-C\n",
    "KM-C for d_raw"
   ]
  },
  {
   "cell_type": "code",
   "execution_count": null,
   "id": "7523c0e6",
   "metadata": {},
   "outputs": [],
   "source": [
    "kmc_d_raw_preds = kmean_C_model(d_raw_train, d_raw_test)"
   ]
  },
  {
   "cell_type": "markdown",
   "id": "841a1b88",
   "metadata": {},
   "source": [
    "KM-C for d_raw_pca"
   ]
  },
  {
   "cell_type": "code",
   "execution_count": null,
   "id": "f7acc763",
   "metadata": {},
   "outputs": [],
   "source": [
    "kmc_d_raw_pca_preds = kmean_C_model(d_raw_pca_train, d_raw_pca_test)"
   ]
  },
  {
   "cell_type": "markdown",
   "id": "e2fddd47",
   "metadata": {},
   "source": [
    "\n",
    "KM-C for d_raw_norm"
   ]
  },
  {
   "cell_type": "code",
   "execution_count": null,
   "id": "d099487a",
   "metadata": {},
   "outputs": [],
   "source": [
    "kmc_d_raw_norm_preds = kmean_C_model(d_raw_norm_train, d_raw_norm_test)"
   ]
  },
  {
   "cell_type": "markdown",
   "id": "179357cb",
   "metadata": {},
   "source": [
    "KM-C for d_raw_norm_pca"
   ]
  },
  {
   "cell_type": "code",
   "execution_count": null,
   "id": "36b78eb7",
   "metadata": {},
   "outputs": [],
   "source": [
    "kmc_d_raw_norm_pca_preds = kmean_C_model(d_raw_norm_pca_train, d_raw_norm_pca_test)"
   ]
  },
  {
   "cell_type": "markdown",
   "id": "769cbf00",
   "metadata": {},
   "source": [
    "KM-C for d_raw_probs"
   ]
  },
  {
   "cell_type": "code",
   "execution_count": null,
   "id": "f1d9b409",
   "metadata": {},
   "outputs": [],
   "source": [
    "kmc_d_raw_probs_preds = kmean_C_model(d_raw_probs_train, d_raw_probs_test)"
   ]
  },
  {
   "cell_type": "markdown",
   "id": "59867b5e",
   "metadata": {},
   "source": [
    "KM-C for d_raw_pca_probs"
   ]
  },
  {
   "cell_type": "code",
   "execution_count": null,
   "id": "de541329",
   "metadata": {},
   "outputs": [],
   "source": [
    "kmc_d_raw_pca_probs_preds = kmean_C_model(d_raw_pca_probs_train, d_raw_pca_probs_test)"
   ]
  },
  {
   "cell_type": "markdown",
   "id": "eb903503",
   "metadata": {},
   "source": [
    "KM-C for d_norm_probs"
   ]
  },
  {
   "cell_type": "code",
   "execution_count": null,
   "id": "21ffe0bb",
   "metadata": {},
   "outputs": [],
   "source": [
    "kmc_d_norm_probs_preds = kmean_C_model(d_norm_probs_train, d_norm_probs_test)"
   ]
  },
  {
   "cell_type": "markdown",
   "id": "d81b0cf9",
   "metadata": {},
   "source": [
    "KM-D for d_norm_pca_probs"
   ]
  },
  {
   "cell_type": "code",
   "execution_count": null,
   "id": "ab8e3789",
   "metadata": {},
   "outputs": [],
   "source": [
    "kmc_d_norm_pca_probs_preds = kmean_C_model(d_norm_pca_probs_train, d_norm_pca_probs_test)"
   ]
  },
  {
   "cell_type": "markdown",
   "id": "e4bb3e5a",
   "metadata": {},
   "source": [
    "DT"
   ]
  },
  {
   "cell_type": "markdown",
   "id": "3dbd7b47",
   "metadata": {},
   "source": [
    "DT for d-raw\n"
   ]
  },
  {
   "cell_type": "code",
   "execution_count": null,
   "id": "17939bc8",
   "metadata": {},
   "outputs": [],
   "source": [
    "dt_d_raw_preds = dt_model(d_raw_train, d_raw_test)"
   ]
  },
  {
   "cell_type": "markdown",
   "id": "beb5cbcd",
   "metadata": {},
   "source": [
    "DT for d_raw_pca"
   ]
  },
  {
   "cell_type": "code",
   "execution_count": null,
   "id": "40e3b1bd",
   "metadata": {},
   "outputs": [],
   "source": [
    "dt_d_raw_pca_preds = dt_model(d_raw_pca_train, d_raw_pca_test)"
   ]
  },
  {
   "cell_type": "markdown",
   "id": "7f25b86b",
   "metadata": {},
   "source": [
    "DT for d_raw_norm"
   ]
  },
  {
   "cell_type": "code",
   "execution_count": null,
   "id": "14d6f99c",
   "metadata": {},
   "outputs": [],
   "source": [
    "dt_d_raw_norm_preds = dt_model(d_raw_norm_train, d_raw_norm_test)"
   ]
  },
  {
   "cell_type": "markdown",
   "id": "643dbce7",
   "metadata": {},
   "source": [
    "DT for d_raw_norm_pca"
   ]
  },
  {
   "cell_type": "code",
   "execution_count": null,
   "id": "d724bb80",
   "metadata": {},
   "outputs": [],
   "source": [
    "dt_d_raw_norm_pca_preds = dt_model(d_raw_norm_pca_train, d_raw_norm_pca_test)"
   ]
  },
  {
   "cell_type": "markdown",
   "id": "45fc5908",
   "metadata": {},
   "source": [
    "DT for d_raw_probs"
   ]
  },
  {
   "cell_type": "code",
   "execution_count": null,
   "id": "74ccdd12",
   "metadata": {},
   "outputs": [],
   "source": [
    "dt_d_raw_probs_preds = dt_model(d_raw_probs_train, d_raw_probs_test)"
   ]
  },
  {
   "cell_type": "markdown",
   "id": "d8382059",
   "metadata": {},
   "source": [
    "DT for d_raw_pca_probs"
   ]
  },
  {
   "cell_type": "code",
   "execution_count": null,
   "id": "82590c25",
   "metadata": {},
   "outputs": [],
   "source": [
    "dt_d_raw_pca_probs_preds = dt_model(d_raw_pca_probs_train, d_raw_pca_probs_test)"
   ]
  },
  {
   "cell_type": "markdown",
   "id": "f15b4864",
   "metadata": {},
   "source": [
    "DT for d_norm_probs"
   ]
  },
  {
   "cell_type": "code",
   "execution_count": null,
   "id": "282169ca",
   "metadata": {},
   "outputs": [],
   "source": [
    "dt_d_norm_probs_preds = dt_model(d_norm_probs_train, d_norm_probs_test)"
   ]
  },
  {
   "cell_type": "markdown",
   "id": "213d39d9",
   "metadata": {},
   "source": [
    "DT for d_norm_pca_probs"
   ]
  },
  {
   "cell_type": "code",
   "execution_count": null,
   "id": "8bedcb27",
   "metadata": {},
   "outputs": [],
   "source": [
    "dt_d_norm_pca_probs_preds = dt_model(d_norm_pca_probs_train, d_norm_pca_probs_test)"
   ]
  },
  {
   "cell_type": "markdown",
   "id": "161060e3",
   "metadata": {},
   "source": [
    "MLP"
   ]
  },
  {
   "cell_type": "markdown",
   "id": "b045d268",
   "metadata": {},
   "source": [
    "MLP for d_raw"
   ]
  },
  {
   "cell_type": "code",
   "execution_count": null,
   "id": "72d4244d",
   "metadata": {},
   "outputs": [],
   "source": [
    "mlp_d_raw_preds = mlp_model(d_raw_train, d_raw_test)"
   ]
  },
  {
   "cell_type": "markdown",
   "id": "7032c28b",
   "metadata": {},
   "source": [
    "MLP for d_raw_pca"
   ]
  },
  {
   "cell_type": "code",
   "execution_count": null,
   "id": "c4d24312",
   "metadata": {},
   "outputs": [],
   "source": [
    "mlp_d_raw_pca_preds = mlp_model(d_raw_pca_train, d_raw_pca_test)"
   ]
  },
  {
   "cell_type": "markdown",
   "id": "adb62e13",
   "metadata": {},
   "source": [
    "MLP for d_raw_norm"
   ]
  },
  {
   "cell_type": "code",
   "execution_count": null,
   "id": "c6250d6d",
   "metadata": {},
   "outputs": [],
   "source": [
    "mlp_d_raw_norm_preds = mlp_model(d_raw_norm_train, d_raw_norm_test)"
   ]
  },
  {
   "cell_type": "markdown",
   "id": "409a68a1",
   "metadata": {},
   "source": [
    "MLP for d_raw_norm_pca"
   ]
  },
  {
   "cell_type": "code",
   "execution_count": null,
   "id": "a852896c",
   "metadata": {},
   "outputs": [],
   "source": [
    "mlp_d_raw_norm_pca_preds = mlp_model(d_raw_norm_pca_train, d_raw_norm_pca_test)"
   ]
  },
  {
   "cell_type": "markdown",
   "id": "d033d423",
   "metadata": {},
   "source": [
    "MLP for d_raw_probs"
   ]
  },
  {
   "cell_type": "code",
   "execution_count": null,
   "id": "9924ede3",
   "metadata": {},
   "outputs": [],
   "source": [
    "mlp_d_raw_probs_preds = mlp_model(d_raw_probs_train, d_raw_probs_test)"
   ]
  },
  {
   "cell_type": "markdown",
   "id": "0a454c1c",
   "metadata": {},
   "source": [
    "MLP for d_raw_pca_probs"
   ]
  },
  {
   "cell_type": "code",
   "execution_count": null,
   "id": "7c74755a",
   "metadata": {},
   "outputs": [],
   "source": [
    "mlp_d_raw_pca_probs_preds = mlp_model(d_raw_pca_probs_train, d_raw_pca_probs_test)"
   ]
  },
  {
   "cell_type": "markdown",
   "id": "0ebf8f6e",
   "metadata": {},
   "source": [
    "MLP for d_norm_probs"
   ]
  },
  {
   "cell_type": "code",
   "execution_count": null,
   "id": "3bbba2a3",
   "metadata": {},
   "outputs": [],
   "source": [
    "mlp_d_norm_probs_preds = mlp_model(d_norm_probs_train, d_norm_probs_test)"
   ]
  },
  {
   "cell_type": "markdown",
   "id": "18e834a5",
   "metadata": {},
   "source": [
    "MLP for d_norm_pca_probs"
   ]
  },
  {
   "cell_type": "code",
   "execution_count": null,
   "id": "caff4e24",
   "metadata": {},
   "outputs": [],
   "source": [
    "mlp_d_norm_pca_probs_preds = mlp_model(d_norm_pca_probs_train, d_norm_pca_probs_test)"
   ]
  },
  {
   "cell_type": "markdown",
   "id": "a66f4afd",
   "metadata": {},
   "source": [
    "Evaluation"
   ]
  },
  {
   "cell_type": "code",
   "execution_count": null,
   "id": "2135a25b",
   "metadata": {},
   "outputs": [],
   "source": [
    "def f1(y_true, y_pred):\n",
    "    return f1_score(y_true, y_pred)"
   ]
  },
  {
   "cell_type": "code",
   "execution_count": null,
   "id": "9be36ebc",
   "metadata": {},
   "outputs": [],
   "source": [
    "f1(test_target, mlp_d_raw_preds)"
   ]
  },
  {
   "cell_type": "code",
   "execution_count": null,
   "id": "512e10e4",
   "metadata": {},
   "outputs": [],
   "source": [
    "def sensitivity(y_true, y_pred):\n",
    "    tp = sum((y_true == 1) & (y_pred == 1))\n",
    "    fn = sum((y_true == 1) & (y_pred == 0))\n",
    "\n",
    "    sensitivity_score = tp / (tp + fn) if (tp + fn) > 0 else 0.0\n",
    "\n",
    "    return sensitivity_score"
   ]
  },
  {
   "cell_type": "code",
   "execution_count": null,
   "id": "fec269a3",
   "metadata": {},
   "outputs": [],
   "source": [
    "sensitivity(test_target, mlp_d_raw_preds)"
   ]
  },
  {
   "cell_type": "markdown",
   "id": "330d0661",
   "metadata": {},
   "source": []
  }
 ],
 "metadata": {
  "kernelspec": {
   "display_name": "Python 3 (ipykernel)",
   "language": "python",
   "name": "python3"
  },
  "language_info": {
   "codemirror_mode": {
    "name": "ipython",
    "version": 3
   },
   "file_extension": ".py",
   "mimetype": "text/x-python",
   "name": "python",
   "nbconvert_exporter": "python",
   "pygments_lexer": "ipython3",
   "version": "3.11.5"
  }
 },
 "nbformat": 4,
 "nbformat_minor": 5
}
